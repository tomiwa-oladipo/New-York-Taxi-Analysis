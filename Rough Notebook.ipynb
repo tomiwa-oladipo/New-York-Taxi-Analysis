{
 "cells": [
  {
   "cell_type": "markdown",
   "id": "885fdcd1",
   "metadata": {},
   "source": [
    "# Problem\n",
    "Predict the average income of a taxi driver in New York City\n",
    "- per hour\n",
    "- per regions\n",
    "\n",
    "Context \\\n",
    "Give equal opportunities across New York\\\n",
    "\\\n",
    "Initial Areas to look into\\\n",
    "What do you need to know about your data?\\\n",
    "- missing values\n",
    "- outliers\n",
    "    - seems over 1000 there are only 23 values for total_amount, so this is likely where there are erroneous values\n",
    "    - seems over 100 there are only 32 values for trip_distance, so this is likely where erroneous values are\n",
    "- which columns would give income\n",
    "- if income is related to distance travelled, then average distance needs to be looked into\n",
    "\n",
    "What are some possible problems you want to look into?\\\n",
    "How are you going to look for that information?"
   ]
  },
  {
   "cell_type": "code",
   "execution_count": 1,
   "id": "84f9e6b4",
   "metadata": {},
   "outputs": [],
   "source": [
    "import pandas as pd\n",
    "import matplotlib.pyplot as plt\n",
    "import matplotlib as mpl\n",
    "import seaborn as sns\n",
    "import plotly.express as px"
   ]
  },
  {
   "cell_type": "code",
   "execution_count": 2,
   "id": "87f42451",
   "metadata": {},
   "outputs": [],
   "source": [
    "taxi_data = pd.read_csv('data/yellow_tripdata_2019-01.csv')\n",
    "taxi_zone = pd.read_csv('data/taxi+_zone_lookup.csv')"
   ]
  },
  {
   "cell_type": "code",
   "execution_count": 3,
   "id": "9e0b3603",
   "metadata": {},
   "outputs": [
    {
     "data": {
      "text/html": [
       "<div>\n",
       "<style scoped>\n",
       "    .dataframe tbody tr th:only-of-type {\n",
       "        vertical-align: middle;\n",
       "    }\n",
       "\n",
       "    .dataframe tbody tr th {\n",
       "        vertical-align: top;\n",
       "    }\n",
       "\n",
       "    .dataframe thead th {\n",
       "        text-align: right;\n",
       "    }\n",
       "</style>\n",
       "<table border=\"1\" class=\"dataframe\">\n",
       "  <thead>\n",
       "    <tr style=\"text-align: right;\">\n",
       "      <th></th>\n",
       "      <th>LocationID</th>\n",
       "      <th>Borough</th>\n",
       "      <th>Zone</th>\n",
       "      <th>service_zone</th>\n",
       "    </tr>\n",
       "  </thead>\n",
       "  <tbody>\n",
       "    <tr>\n",
       "      <th>0</th>\n",
       "      <td>1</td>\n",
       "      <td>EWR</td>\n",
       "      <td>Newark Airport</td>\n",
       "      <td>EWR</td>\n",
       "    </tr>\n",
       "    <tr>\n",
       "      <th>1</th>\n",
       "      <td>2</td>\n",
       "      <td>Queens</td>\n",
       "      <td>Jamaica Bay</td>\n",
       "      <td>Boro Zone</td>\n",
       "    </tr>\n",
       "    <tr>\n",
       "      <th>2</th>\n",
       "      <td>3</td>\n",
       "      <td>Bronx</td>\n",
       "      <td>Allerton/Pelham Gardens</td>\n",
       "      <td>Boro Zone</td>\n",
       "    </tr>\n",
       "    <tr>\n",
       "      <th>3</th>\n",
       "      <td>4</td>\n",
       "      <td>Manhattan</td>\n",
       "      <td>Alphabet City</td>\n",
       "      <td>Yellow Zone</td>\n",
       "    </tr>\n",
       "    <tr>\n",
       "      <th>4</th>\n",
       "      <td>5</td>\n",
       "      <td>Staten Island</td>\n",
       "      <td>Arden Heights</td>\n",
       "      <td>Boro Zone</td>\n",
       "    </tr>\n",
       "  </tbody>\n",
       "</table>\n",
       "</div>"
      ],
      "text/plain": [
       "   LocationID        Borough                     Zone service_zone\n",
       "0           1            EWR           Newark Airport          EWR\n",
       "1           2         Queens              Jamaica Bay    Boro Zone\n",
       "2           3          Bronx  Allerton/Pelham Gardens    Boro Zone\n",
       "3           4      Manhattan            Alphabet City  Yellow Zone\n",
       "4           5  Staten Island            Arden Heights    Boro Zone"
      ]
     },
     "execution_count": 3,
     "metadata": {},
     "output_type": "execute_result"
    }
   ],
   "source": [
    "taxi_zone.head()"
   ]
  },
  {
   "cell_type": "code",
   "execution_count": 4,
   "id": "bbcdafc3",
   "metadata": {},
   "outputs": [
    {
     "data": {
      "text/plain": [
       "(265, 4)"
      ]
     },
     "execution_count": 4,
     "metadata": {},
     "output_type": "execute_result"
    }
   ],
   "source": [
    "taxi_zone.shape"
   ]
  },
  {
   "cell_type": "code",
   "execution_count": 5,
   "id": "43ce3841",
   "metadata": {},
   "outputs": [
    {
     "name": "stdout",
     "output_type": "stream",
     "text": [
      "Boro Zone      205\n",
      "Yellow Zone     55\n",
      "Airports         2\n",
      "EWR              1\n",
      "Name: service_zone, dtype: int64 \n",
      "\n",
      " Queens           69\n",
      "Manhattan        69\n",
      "Brooklyn         61\n",
      "Bronx            43\n",
      "Staten Island    20\n",
      "Unknown           2\n",
      "EWR               1\n",
      "Name: Borough, dtype: int64\n"
     ]
    }
   ],
   "source": [
    "print(taxi_zone['service_zone'].value_counts(),'\\n\\n' ,taxi_zone['Borough'].value_counts())"
   ]
  },
  {
   "cell_type": "code",
   "execution_count": 6,
   "id": "e4713012",
   "metadata": {},
   "outputs": [
    {
     "data": {
      "text/html": [
       "<div>\n",
       "<style scoped>\n",
       "    .dataframe tbody tr th:only-of-type {\n",
       "        vertical-align: middle;\n",
       "    }\n",
       "\n",
       "    .dataframe tbody tr th {\n",
       "        vertical-align: top;\n",
       "    }\n",
       "\n",
       "    .dataframe thead th {\n",
       "        text-align: right;\n",
       "    }\n",
       "</style>\n",
       "<table border=\"1\" class=\"dataframe\">\n",
       "  <thead>\n",
       "    <tr style=\"text-align: right;\">\n",
       "      <th></th>\n",
       "      <th>VendorID</th>\n",
       "      <th>tpep_pickup_datetime</th>\n",
       "      <th>tpep_dropoff_datetime</th>\n",
       "      <th>passenger_count</th>\n",
       "      <th>trip_distance</th>\n",
       "      <th>RatecodeID</th>\n",
       "      <th>store_and_fwd_flag</th>\n",
       "      <th>PULocationID</th>\n",
       "      <th>DOLocationID</th>\n",
       "      <th>payment_type</th>\n",
       "      <th>fare_amount</th>\n",
       "      <th>extra</th>\n",
       "      <th>mta_tax</th>\n",
       "      <th>tip_amount</th>\n",
       "      <th>tolls_amount</th>\n",
       "      <th>improvement_surcharge</th>\n",
       "      <th>total_amount</th>\n",
       "      <th>congestion_surcharge</th>\n",
       "    </tr>\n",
       "  </thead>\n",
       "  <tbody>\n",
       "    <tr>\n",
       "      <th>0</th>\n",
       "      <td>1</td>\n",
       "      <td>2019-01-01 00:46:40</td>\n",
       "      <td>2019-01-01 00:53:20</td>\n",
       "      <td>1</td>\n",
       "      <td>1.5</td>\n",
       "      <td>1</td>\n",
       "      <td>N</td>\n",
       "      <td>151</td>\n",
       "      <td>239</td>\n",
       "      <td>1</td>\n",
       "      <td>7.0</td>\n",
       "      <td>0.5</td>\n",
       "      <td>0.5</td>\n",
       "      <td>1.65</td>\n",
       "      <td>0.0</td>\n",
       "      <td>0.3</td>\n",
       "      <td>9.95</td>\n",
       "      <td>NaN</td>\n",
       "    </tr>\n",
       "    <tr>\n",
       "      <th>1</th>\n",
       "      <td>1</td>\n",
       "      <td>2019-01-01 00:59:47</td>\n",
       "      <td>2019-01-01 01:18:59</td>\n",
       "      <td>1</td>\n",
       "      <td>2.6</td>\n",
       "      <td>1</td>\n",
       "      <td>N</td>\n",
       "      <td>239</td>\n",
       "      <td>246</td>\n",
       "      <td>1</td>\n",
       "      <td>14.0</td>\n",
       "      <td>0.5</td>\n",
       "      <td>0.5</td>\n",
       "      <td>1.00</td>\n",
       "      <td>0.0</td>\n",
       "      <td>0.3</td>\n",
       "      <td>16.30</td>\n",
       "      <td>NaN</td>\n",
       "    </tr>\n",
       "    <tr>\n",
       "      <th>2</th>\n",
       "      <td>2</td>\n",
       "      <td>2018-12-21 13:48:30</td>\n",
       "      <td>2018-12-21 13:52:40</td>\n",
       "      <td>3</td>\n",
       "      <td>0.0</td>\n",
       "      <td>1</td>\n",
       "      <td>N</td>\n",
       "      <td>236</td>\n",
       "      <td>236</td>\n",
       "      <td>1</td>\n",
       "      <td>4.5</td>\n",
       "      <td>0.5</td>\n",
       "      <td>0.5</td>\n",
       "      <td>0.00</td>\n",
       "      <td>0.0</td>\n",
       "      <td>0.3</td>\n",
       "      <td>5.80</td>\n",
       "      <td>NaN</td>\n",
       "    </tr>\n",
       "    <tr>\n",
       "      <th>3</th>\n",
       "      <td>2</td>\n",
       "      <td>2018-11-28 15:52:25</td>\n",
       "      <td>2018-11-28 15:55:45</td>\n",
       "      <td>5</td>\n",
       "      <td>0.0</td>\n",
       "      <td>1</td>\n",
       "      <td>N</td>\n",
       "      <td>193</td>\n",
       "      <td>193</td>\n",
       "      <td>2</td>\n",
       "      <td>3.5</td>\n",
       "      <td>0.5</td>\n",
       "      <td>0.5</td>\n",
       "      <td>0.00</td>\n",
       "      <td>0.0</td>\n",
       "      <td>0.3</td>\n",
       "      <td>7.55</td>\n",
       "      <td>NaN</td>\n",
       "    </tr>\n",
       "    <tr>\n",
       "      <th>4</th>\n",
       "      <td>2</td>\n",
       "      <td>2018-11-28 15:56:57</td>\n",
       "      <td>2018-11-28 15:58:33</td>\n",
       "      <td>5</td>\n",
       "      <td>0.0</td>\n",
       "      <td>2</td>\n",
       "      <td>N</td>\n",
       "      <td>193</td>\n",
       "      <td>193</td>\n",
       "      <td>2</td>\n",
       "      <td>52.0</td>\n",
       "      <td>0.0</td>\n",
       "      <td>0.5</td>\n",
       "      <td>0.00</td>\n",
       "      <td>0.0</td>\n",
       "      <td>0.3</td>\n",
       "      <td>55.55</td>\n",
       "      <td>NaN</td>\n",
       "    </tr>\n",
       "  </tbody>\n",
       "</table>\n",
       "</div>"
      ],
      "text/plain": [
       "   VendorID tpep_pickup_datetime tpep_dropoff_datetime  passenger_count  \\\n",
       "0         1  2019-01-01 00:46:40   2019-01-01 00:53:20                1   \n",
       "1         1  2019-01-01 00:59:47   2019-01-01 01:18:59                1   \n",
       "2         2  2018-12-21 13:48:30   2018-12-21 13:52:40                3   \n",
       "3         2  2018-11-28 15:52:25   2018-11-28 15:55:45                5   \n",
       "4         2  2018-11-28 15:56:57   2018-11-28 15:58:33                5   \n",
       "\n",
       "   trip_distance  RatecodeID store_and_fwd_flag  PULocationID  DOLocationID  \\\n",
       "0            1.5           1                  N           151           239   \n",
       "1            2.6           1                  N           239           246   \n",
       "2            0.0           1                  N           236           236   \n",
       "3            0.0           1                  N           193           193   \n",
       "4            0.0           2                  N           193           193   \n",
       "\n",
       "   payment_type  fare_amount  extra  mta_tax  tip_amount  tolls_amount  \\\n",
       "0             1          7.0    0.5      0.5        1.65           0.0   \n",
       "1             1         14.0    0.5      0.5        1.00           0.0   \n",
       "2             1          4.5    0.5      0.5        0.00           0.0   \n",
       "3             2          3.5    0.5      0.5        0.00           0.0   \n",
       "4             2         52.0    0.0      0.5        0.00           0.0   \n",
       "\n",
       "   improvement_surcharge  total_amount  congestion_surcharge  \n",
       "0                    0.3          9.95                   NaN  \n",
       "1                    0.3         16.30                   NaN  \n",
       "2                    0.3          5.80                   NaN  \n",
       "3                    0.3          7.55                   NaN  \n",
       "4                    0.3         55.55                   NaN  "
      ]
     },
     "execution_count": 6,
     "metadata": {},
     "output_type": "execute_result"
    }
   ],
   "source": [
    "taxi_data.head()"
   ]
  },
  {
   "cell_type": "code",
   "execution_count": 7,
   "id": "07d6dcc8",
   "metadata": {},
   "outputs": [
    {
     "data": {
      "text/plain": [
       "array(['EWR', 'Queens', 'Bronx', 'Manhattan', 'Staten Island', 'Brooklyn',\n",
       "       'Unknown'], dtype=object)"
      ]
     },
     "execution_count": 7,
     "metadata": {},
     "output_type": "execute_result"
    }
   ],
   "source": [
    "taxi_zone['Borough'].unique()"
   ]
  },
  {
   "cell_type": "code",
   "execution_count": 8,
   "id": "512e1fef",
   "metadata": {},
   "outputs": [],
   "source": [
    "taxi_data = taxi_data[['tpep_pickup_datetime', 'tpep_dropoff_datetime','passenger_count','trip_distance', 'RatecodeID','PULocationID', 'DOLocationID', 'payment_type','total_amount']]"
   ]
  },
  {
   "cell_type": "markdown",
   "id": "e72b43da",
   "metadata": {},
   "source": [
    "## Quick Findings\n",
    "\n",
    "passenger_count\n",
    "- 0 - 8\n",
    "- is 0 an error?\n",
    "\n",
    "trip_distance\n",
    "- 0 - 800 in miles\n",
    "- 800 is likely an error\n",
    "\n",
    "ratecodeid\n",
    "- should be 1 - 6\n",
    "- but its seems to have 100 as max - seems to be an error\n",
    "\n",
    "pulocationid\n",
    "- 0 - 250\n",
    "- most common seems to be around 230\n",
    "\n",
    "dolocationid\n",
    "- 0 - 250\n",
    "- most common seems to be around 230\n",
    "\n",
    "payment_type\n",
    "- 1 or 2 with 1 the most common\n",
    "\n",
    "total_amount\n",
    "- 0 - 600000\n",
    "- seems to be an error\n",
    "- there are also some negatives\n",
    "- count how many are below 0 and above 1000 (1000 being an quick and dirty number to use as a cutoff)"
   ]
  },
  {
   "cell_type": "code",
   "execution_count": 9,
   "id": "38315a3d",
   "metadata": {},
   "outputs": [
    {
     "data": {
      "text/plain": [
       "array([[<AxesSubplot:title={'center':'passenger_count'}>,\n",
       "        <AxesSubplot:title={'center':'trip_distance'}>,\n",
       "        <AxesSubplot:title={'center':'RatecodeID'}>],\n",
       "       [<AxesSubplot:title={'center':'PULocationID'}>,\n",
       "        <AxesSubplot:title={'center':'DOLocationID'}>,\n",
       "        <AxesSubplot:title={'center':'payment_type'}>],\n",
       "       [<AxesSubplot:title={'center':'total_amount'}>, <AxesSubplot:>,\n",
       "        <AxesSubplot:>]], dtype=object)"
      ]
     },
     "execution_count": 9,
     "metadata": {},
     "output_type": "execute_result"
    },
    {
     "data": {
      "image/png": "[encoded data removed]",
      "text/plain": [
       "<Figure size 1440x720 with 9 Axes>"
      ]
     },
     "metadata": {
      "needs_background": "light"
     },
     "output_type": "display_data"
    }
   ],
   "source": [
    "taxi_data.hist(figsize=(20,10), bins = 60)"
   ]
  },
  {
   "cell_type": "code",
   "execution_count": 10,
   "id": "d0728e67",
   "metadata": {},
   "outputs": [
    {
     "data": {
      "image/png": "[encoded data removed]",
      "text/plain": [
       "<Figure size 432x288 with 1 Axes>"
      ]
     },
     "metadata": {},
     "output_type": "display_data"
    }
   ],
   "source": [
    "# Load the tips dataset from Seaborn's built-in datasets\n",
    "# tips = sns.load_dataset(\"tips\")\n",
    "\n",
    "taxi_data_less_totalamt_100 = taxi_data[taxi_data['total_amount']<100] \n",
    "sns.set(style=\"darkgrid\")\n",
    "# Create a histogram with 20 bins, ranging from 0 to 10\n",
    "\n",
    "ax = sns.histplot(data=taxi_data_less_totalamt_100, x=\"total_amount\", bins= 10, kde=False, color=\"purple\")\n",
    "plt.ticklabel_format(style='plain', axis='y')\n",
    "ax.get_yaxis().set_major_formatter(mpl.ticker.StrMethodFormatter('{x:,.0f}'))\n",
    "sns.set(rc={'figure.figsize':(15,15)})"
   ]
  },
  {
   "cell_type": "code",
   "execution_count": 11,
   "id": "79506e37",
   "metadata": {},
   "outputs": [
    {
     "data": {
      "text/plain": [
       "Series([], dtype: int64)"
      ]
     },
     "execution_count": 11,
     "metadata": {},
     "output_type": "execute_result"
    }
   ],
   "source": [
    "null_counts = taxi_data.isnull().sum()\n",
    "null_counts[null_counts > 0].sort_values(ascending=False)"
   ]
  },
  {
   "cell_type": "markdown",
   "id": "fe3e7571",
   "metadata": {},
   "source": [
    "total_amount: Getting rid of rows outside of 0 - 200 seems reasonable, its 0.1% of the data\n",
    "\n",
    "\n",
    "trip_distance: Getting rid of rows above 100 is insignificant. Using this number as its potentialy the max distance to travel in New York?\n",
    "\n",
    "\n",
    "    - should get rid of 0 values\n",
    "\n",
    "\n",
    "RatecodeID: Getting rid of rows above 6 is insignificant and confident its correct.\n",
    "\n",
    "\n",
    "passenger_count: 0 count makes 1.5% of total row count which is more significant than other errors. Do we need this data? Does getting rid of it effect the metrics? If it does, what method could be used to fill the missing value? Is there an inferrence that can be done simple or more complicated..."
   ]
  },
  {
   "cell_type": "code",
   "execution_count": 12,
   "id": "d9df16f3",
   "metadata": {},
   "outputs": [
    {
     "name": "stdout",
     "output_type": "stream",
     "text": [
      "Row Count: 7667792\n",
      "Negative Row Count: 7131\n",
      "Above 200 Row Count: 1166\n"
     ]
    }
   ],
   "source": [
    "# total_amount cleaning\n",
    "row_count = taxi_data.shape[0]\n",
    "negative_row_count = taxi_data[taxi_data['total_amount']<0].shape[0]\n",
    "above_200_row_count = taxi_data[taxi_data['total_amount']>200].shape[0]\n",
    "print('Row Count: '+str(row_count)+'\\nNegative Row Count: '+str(negative_row_count)+'\\nAbove 200 Row Count: '+str(above_200_row_count))"
   ]
  },
  {
   "cell_type": "code",
   "execution_count": 13,
   "id": "fc959b51",
   "metadata": {},
   "outputs": [],
   "source": [
    "taxi_data_cleaned = taxi_data[(taxi_data['total_amount']>=0)&(taxi_data['total_amount']<200)]"
   ]
  },
  {
   "cell_type": "code",
   "execution_count": 14,
   "id": "d4085ae1",
   "metadata": {
    "scrolled": true
   },
   "outputs": [
    {
     "name": "stdout",
     "output_type": "stream",
     "text": [
      "Row Count: 7659490\n",
      "Negative Row Count: 0\n",
      "Above 200 Row Count: 0\n"
     ]
    }
   ],
   "source": [
    "# total_amount - post clean check\n",
    "row_count = taxi_data_cleaned.shape[0]\n",
    "negative_row_count = taxi_data_cleaned[taxi_data_cleaned['total_amount']<0].shape[0]\n",
    "above_200_row_count = taxi_data_cleaned[taxi_data_cleaned['total_amount']>200].shape[0]\n",
    "print('Row Count: '+str(row_count)+'\\nNegative Row Count: '+str(negative_row_count)+'\\nAbove 200 Row Count: '+str(above_200_row_count))"
   ]
  },
  {
   "cell_type": "code",
   "execution_count": 15,
   "id": "cb51ceb8",
   "metadata": {},
   "outputs": [
    {
     "name": "stdout",
     "output_type": "stream",
     "text": [
      "Row Count: 7659490\n",
      "Above 100 Row Count: 11\n"
     ]
    }
   ],
   "source": [
    "# trip_distance\n",
    "row_count = taxi_data_cleaned.shape[0]\n",
    "above_100_row_count = taxi_data_cleaned[taxi_data_cleaned['trip_distance']>100].shape[0]\n",
    "print('Row Count: '+str(row_count)+'\\nAbove 100 Row Count: '+str(above_100_row_count))"
   ]
  },
  {
   "cell_type": "code",
   "execution_count": 16,
   "id": "e993f073",
   "metadata": {},
   "outputs": [],
   "source": [
    "taxi_data_cleaned = taxi_data_cleaned[(taxi_data_cleaned['trip_distance']>0)&(taxi_data_cleaned['trip_distance']<=100)]"
   ]
  },
  {
   "cell_type": "code",
   "execution_count": 17,
   "id": "8cebf3ed",
   "metadata": {},
   "outputs": [
    {
     "name": "stdout",
     "output_type": "stream",
     "text": [
      "Row Count: 7606513\n",
      "Above 100 Row Count: 0\n",
      "Equal 0 Row Count: 0\n"
     ]
    }
   ],
   "source": [
    "# trip_distance - post clean check\n",
    "row_count = taxi_data_cleaned.shape[0]\n",
    "above_100_row_count = taxi_data_cleaned[taxi_data_cleaned['trip_distance']>100].shape[0]\n",
    "equal_0_row_count = taxi_data_cleaned[taxi_data_cleaned['trip_distance']==0].shape[0]\n",
    "print('Row Count: '+str(row_count)+'\\nAbove 100 Row Count: '+str(above_100_row_count)+'\\nEqual 0 Row Count: '+str(equal_0_row_count))"
   ]
  },
  {
   "cell_type": "code",
   "execution_count": 18,
   "id": "4d0c21ec",
   "metadata": {},
   "outputs": [
    {
     "name": "stdout",
     "output_type": "stream",
     "text": [
      "Row Count: 7606513\n",
      "Above 6 Row Count: 107\n"
     ]
    }
   ],
   "source": [
    "# RatecodeID\n",
    "row_count = taxi_data_cleaned.shape[0]\n",
    "above_6_row_count = taxi_data_cleaned[taxi_data_cleaned['RatecodeID']>6].shape[0]\n",
    "print('Row Count: '+str(row_count)+'\\nAbove 6 Row Count: '+str(above_6_row_count))"
   ]
  },
  {
   "cell_type": "code",
   "execution_count": 19,
   "id": "03bcf232",
   "metadata": {},
   "outputs": [],
   "source": [
    "taxi_data_cleaned = taxi_data_cleaned[taxi_data_cleaned['RatecodeID']<=6]"
   ]
  },
  {
   "cell_type": "code",
   "execution_count": 20,
   "id": "994d98f2",
   "metadata": {},
   "outputs": [
    {
     "name": "stdout",
     "output_type": "stream",
     "text": [
      "Row Count: 7606406\n",
      "Above 6 Row Count: 0\n"
     ]
    }
   ],
   "source": [
    "# RatecodeID - post clean check\n",
    "row_count = taxi_data_cleaned.shape[0]\n",
    "above_6_row_count = taxi_data_cleaned[taxi_data_cleaned['RatecodeID']>6].shape[0]\n",
    "print('Row Count: '+str(row_count)+'\\nAbove 6 Row Count: '+str(above_6_row_count))"
   ]
  },
  {
   "cell_type": "code",
   "execution_count": 21,
   "id": "8d32cfc1",
   "metadata": {},
   "outputs": [
    {
     "name": "stdout",
     "output_type": "stream",
     "text": [
      "Row Count: 7606406\n",
      "Equal 0 Row Count: 115602\n",
      "% Significance :1.52%\n"
     ]
    }
   ],
   "source": [
    "# RatecodeID\n",
    "row_count = taxi_data_cleaned.shape[0]\n",
    "equal_0_row_count = taxi_data_cleaned[taxi_data_cleaned['passenger_count']==0].shape[0]\n",
    "print('Row Count: '+str(row_count)+'\\nEqual 0 Row Count: '+str(equal_0_row_count)+'\\n% Significance :'+ str(round(equal_0_row_count/row_count, 4)*100)+'%')"
   ]
  },
  {
   "cell_type": "code",
   "execution_count": 22,
   "id": "3841c98c",
   "metadata": {},
   "outputs": [],
   "source": [
    "taxi_data_cleaned = taxi_data_cleaned[taxi_data_cleaned['passenger_count']>0]"
   ]
  },
  {
   "cell_type": "code",
   "execution_count": 23,
   "id": "9a9375b9",
   "metadata": {},
   "outputs": [
    {
     "name": "stdout",
     "output_type": "stream",
     "text": [
      "Row Count: 7490804\n",
      "Equal 0 Row Count: 0\n",
      "% Significance :0.0%\n"
     ]
    }
   ],
   "source": [
    "# RatecodeID - post clean check\n",
    "row_count = taxi_data_cleaned.shape[0]\n",
    "equal_0_row_count = taxi_data_cleaned[taxi_data_cleaned['passenger_count']==0].shape[0]\n",
    "print('Row Count: '+str(row_count)+'\\nEqual 0 Row Count: '+str(equal_0_row_count)+'\\n% Significance :'+ str(round(equal_0_row_count/row_count, 4)*100)+'%')"
   ]
  },
  {
   "cell_type": "markdown",
   "id": "db22d80d",
   "metadata": {},
   "source": [
    "- [x] total_amount [restricted data to between 0 - 1000 total_amount]\n",
    "- [x] trip_distance [restricting data below 100]\n",
    "- [x] ratecodeid [restricted daat to below/equal to 6]\n",
    "- [x] passenger_count"
   ]
  },
  {
   "cell_type": "markdown",
   "id": "37276462",
   "metadata": {},
   "source": [
    "Next steps would be to identify what about the metrics that can predict total_amount"
   ]
  },
  {
   "cell_type": "code",
   "execution_count": 24,
   "id": "ffc377dc",
   "metadata": {},
   "outputs": [
    {
     "data": {
      "text/plain": [
       "Series([], Name: trip_distance, dtype: int64)"
      ]
     },
     "execution_count": 24,
     "metadata": {},
     "output_type": "execute_result"
    }
   ],
   "source": [
    "taxi_data_cleaned[taxi_data_cleaned['trip_distance']==0]['trip_distance'].value_counts()"
   ]
  },
  {
   "cell_type": "code",
   "execution_count": 25,
   "id": "6673314f",
   "metadata": {},
   "outputs": [
    {
     "data": {
      "text/html": [
       "<div>\n",
       "<style scoped>\n",
       "    .dataframe tbody tr th:only-of-type {\n",
       "        vertical-align: middle;\n",
       "    }\n",
       "\n",
       "    .dataframe tbody tr th {\n",
       "        vertical-align: top;\n",
       "    }\n",
       "\n",
       "    .dataframe thead th {\n",
       "        text-align: right;\n",
       "    }\n",
       "</style>\n",
       "<table border=\"1\" class=\"dataframe\">\n",
       "  <thead>\n",
       "    <tr style=\"text-align: right;\">\n",
       "      <th></th>\n",
       "      <th>tpep_pickup_datetime</th>\n",
       "      <th>tpep_dropoff_datetime</th>\n",
       "      <th>passenger_count</th>\n",
       "      <th>trip_distance</th>\n",
       "      <th>RatecodeID</th>\n",
       "      <th>PULocationID</th>\n",
       "      <th>DOLocationID</th>\n",
       "      <th>payment_type</th>\n",
       "      <th>total_amount</th>\n",
       "    </tr>\n",
       "  </thead>\n",
       "  <tbody>\n",
       "    <tr>\n",
       "      <th>0</th>\n",
       "      <td>2019-01-01 00:46:40</td>\n",
       "      <td>2019-01-01 00:53:20</td>\n",
       "      <td>1</td>\n",
       "      <td>1.5</td>\n",
       "      <td>1</td>\n",
       "      <td>151</td>\n",
       "      <td>239</td>\n",
       "      <td>1</td>\n",
       "      <td>9.95</td>\n",
       "    </tr>\n",
       "    <tr>\n",
       "      <th>1</th>\n",
       "      <td>2019-01-01 00:59:47</td>\n",
       "      <td>2019-01-01 01:18:59</td>\n",
       "      <td>1</td>\n",
       "      <td>2.6</td>\n",
       "      <td>1</td>\n",
       "      <td>239</td>\n",
       "      <td>246</td>\n",
       "      <td>1</td>\n",
       "      <td>16.30</td>\n",
       "    </tr>\n",
       "    <tr>\n",
       "      <th>7</th>\n",
       "      <td>2019-01-01 00:21:28</td>\n",
       "      <td>2019-01-01 00:28:37</td>\n",
       "      <td>1</td>\n",
       "      <td>1.3</td>\n",
       "      <td>1</td>\n",
       "      <td>163</td>\n",
       "      <td>229</td>\n",
       "      <td>1</td>\n",
       "      <td>9.05</td>\n",
       "    </tr>\n",
       "    <tr>\n",
       "      <th>8</th>\n",
       "      <td>2019-01-01 00:32:01</td>\n",
       "      <td>2019-01-01 00:45:39</td>\n",
       "      <td>1</td>\n",
       "      <td>3.7</td>\n",
       "      <td>1</td>\n",
       "      <td>229</td>\n",
       "      <td>7</td>\n",
       "      <td>1</td>\n",
       "      <td>18.50</td>\n",
       "    </tr>\n",
       "    <tr>\n",
       "      <th>9</th>\n",
       "      <td>2019-01-01 00:57:32</td>\n",
       "      <td>2019-01-01 01:09:32</td>\n",
       "      <td>2</td>\n",
       "      <td>2.1</td>\n",
       "      <td>1</td>\n",
       "      <td>141</td>\n",
       "      <td>234</td>\n",
       "      <td>1</td>\n",
       "      <td>13.00</td>\n",
       "    </tr>\n",
       "  </tbody>\n",
       "</table>\n",
       "</div>"
      ],
      "text/plain": [
       "  tpep_pickup_datetime tpep_dropoff_datetime  passenger_count  trip_distance  \\\n",
       "0  2019-01-01 00:46:40   2019-01-01 00:53:20                1            1.5   \n",
       "1  2019-01-01 00:59:47   2019-01-01 01:18:59                1            2.6   \n",
       "7  2019-01-01 00:21:28   2019-01-01 00:28:37                1            1.3   \n",
       "8  2019-01-01 00:32:01   2019-01-01 00:45:39                1            3.7   \n",
       "9  2019-01-01 00:57:32   2019-01-01 01:09:32                2            2.1   \n",
       "\n",
       "   RatecodeID  PULocationID  DOLocationID  payment_type  total_amount  \n",
       "0           1           151           239             1          9.95  \n",
       "1           1           239           246             1         16.30  \n",
       "7           1           163           229             1          9.05  \n",
       "8           1           229             7             1         18.50  \n",
       "9           1           141           234             1         13.00  "
      ]
     },
     "execution_count": 25,
     "metadata": {},
     "output_type": "execute_result"
    }
   ],
   "source": [
    "taxi_data_cleaned.head()"
   ]
  },
  {
   "cell_type": "markdown",
   "id": "b7cb2c92",
   "metadata": {},
   "source": [
    "## Preparation"
   ]
  },
  {
   "cell_type": "code",
   "execution_count": 26,
   "id": "1500fb1e",
   "metadata": {},
   "outputs": [],
   "source": [
    "taxi_data_prepared = taxi_data_cleaned.copy()"
   ]
  },
  {
   "cell_type": "code",
   "execution_count": 27,
   "id": "6bcafc15",
   "metadata": {},
   "outputs": [
    {
     "data": {
      "text/plain": [
       "tpep_pickup_datetime      object\n",
       "tpep_dropoff_datetime     object\n",
       "passenger_count            int64\n",
       "trip_distance            float64\n",
       "RatecodeID                 int64\n",
       "PULocationID               int64\n",
       "DOLocationID               int64\n",
       "payment_type               int64\n",
       "total_amount             float64\n",
       "dtype: object"
      ]
     },
     "execution_count": 27,
     "metadata": {},
     "output_type": "execute_result"
    }
   ],
   "source": [
    "taxi_data_prepared.dtypes"
   ]
  },
  {
   "cell_type": "code",
   "execution_count": 28,
   "id": "71284d08",
   "metadata": {},
   "outputs": [],
   "source": [
    "taxi_data_prepared['tpep_pickup_datetime'] = pd.to_datetime(taxi_data_prepared['tpep_pickup_datetime'])\n",
    "taxi_data_prepared['tpep_dropoff_datetime'] = pd.to_datetime(taxi_data_prepared['tpep_dropoff_datetime'])"
   ]
  },
  {
   "cell_type": "code",
   "execution_count": 29,
   "id": "ed79f7c3",
   "metadata": {},
   "outputs": [
    {
     "data": {
      "text/plain": [
       "tpep_pickup_datetime     datetime64[ns]\n",
       "tpep_dropoff_datetime    datetime64[ns]\n",
       "passenger_count                   int64\n",
       "trip_distance                   float64\n",
       "RatecodeID                        int64\n",
       "PULocationID                      int64\n",
       "DOLocationID                      int64\n",
       "payment_type                      int64\n",
       "total_amount                    float64\n",
       "dtype: object"
      ]
     },
     "execution_count": 29,
     "metadata": {},
     "output_type": "execute_result"
    }
   ],
   "source": [
    "taxi_data_prepared.dtypes"
   ]
  },
  {
   "cell_type": "code",
   "execution_count": 30,
   "id": "f1942160",
   "metadata": {},
   "outputs": [],
   "source": [
    "taxi_data_prepared['RatecodeID'] = taxi_data_prepared['RatecodeID'].astype(str)\n",
    "taxi_data_prepared['PULocationID'] = taxi_data_prepared['PULocationID'].astype(str)\n",
    "taxi_data_prepared['DOLocationID'] =taxi_data_prepared['DOLocationID'].astype(str)\n",
    "taxi_data_prepared['payment_type'] = taxi_data_prepared['payment_type'].astype(str)"
   ]
  },
  {
   "cell_type": "code",
   "execution_count": 31,
   "id": "8fbe35b1",
   "metadata": {},
   "outputs": [
    {
     "data": {
      "text/plain": [
       "tpep_pickup_datetime     datetime64[ns]\n",
       "tpep_dropoff_datetime    datetime64[ns]\n",
       "passenger_count                   int64\n",
       "trip_distance                   float64\n",
       "RatecodeID                       object\n",
       "PULocationID                     object\n",
       "DOLocationID                     object\n",
       "payment_type                     object\n",
       "total_amount                    float64\n",
       "dtype: object"
      ]
     },
     "execution_count": 31,
     "metadata": {},
     "output_type": "execute_result"
    }
   ],
   "source": [
    "taxi_data_prepared.dtypes"
   ]
  },
  {
   "cell_type": "code",
   "execution_count": 32,
   "id": "e5de4b1b",
   "metadata": {},
   "outputs": [],
   "source": [
    "taxi_data_prepared['transaction_date'] = taxi_data_prepared['tpep_pickup_datetime'].dt.date\n",
    "taxi_data_prepared['transaction_year'] = taxi_data_prepared['tpep_pickup_datetime'].dt.year\n",
    "taxi_data_prepared['transaction_month'] = taxi_data_prepared['tpep_pickup_datetime'].dt.month\n",
    "taxi_data_prepared['transaction_day'] = taxi_data_prepared['tpep_pickup_datetime'].dt.day\n",
    "taxi_data_prepared['transaction_hour'] = taxi_data_prepared['tpep_pickup_datetime'].dt.hour\n",
    "taxi_data_prepared['transaction_weekday'] = taxi_data_prepared['tpep_pickup_datetime'].dt.dayofweek"
   ]
  },
  {
   "cell_type": "code",
   "execution_count": 33,
   "id": "b91d6502",
   "metadata": {},
   "outputs": [
    {
     "data": {
      "text/html": [
       "<div>\n",
       "<style scoped>\n",
       "    .dataframe tbody tr th:only-of-type {\n",
       "        vertical-align: middle;\n",
       "    }\n",
       "\n",
       "    .dataframe tbody tr th {\n",
       "        vertical-align: top;\n",
       "    }\n",
       "\n",
       "    .dataframe thead th {\n",
       "        text-align: right;\n",
       "    }\n",
       "</style>\n",
       "<table border=\"1\" class=\"dataframe\">\n",
       "  <thead>\n",
       "    <tr style=\"text-align: right;\">\n",
       "      <th></th>\n",
       "      <th>tpep_pickup_datetime</th>\n",
       "      <th>tpep_dropoff_datetime</th>\n",
       "      <th>passenger_count</th>\n",
       "      <th>trip_distance</th>\n",
       "      <th>RatecodeID</th>\n",
       "      <th>PULocationID</th>\n",
       "      <th>DOLocationID</th>\n",
       "      <th>payment_type</th>\n",
       "      <th>total_amount</th>\n",
       "      <th>transaction_date</th>\n",
       "      <th>transaction_year</th>\n",
       "      <th>transaction_month</th>\n",
       "      <th>transaction_day</th>\n",
       "      <th>transaction_hour</th>\n",
       "      <th>transaction_weekday</th>\n",
       "    </tr>\n",
       "  </thead>\n",
       "  <tbody>\n",
       "    <tr>\n",
       "      <th>7667783</th>\n",
       "      <td>2019-01-31 23:04:25</td>\n",
       "      <td>2019-01-31 23:17:09</td>\n",
       "      <td>2</td>\n",
       "      <td>4.15</td>\n",
       "      <td>1</td>\n",
       "      <td>186</td>\n",
       "      <td>13</td>\n",
       "      <td>2</td>\n",
       "      <td>15.80</td>\n",
       "      <td>2019-01-31</td>\n",
       "      <td>2019</td>\n",
       "      <td>1</td>\n",
       "      <td>31</td>\n",
       "      <td>23</td>\n",
       "      <td>3</td>\n",
       "    </tr>\n",
       "    <tr>\n",
       "      <th>7667784</th>\n",
       "      <td>2019-01-31 23:32:34</td>\n",
       "      <td>2019-01-31 23:41:40</td>\n",
       "      <td>1</td>\n",
       "      <td>1.34</td>\n",
       "      <td>1</td>\n",
       "      <td>68</td>\n",
       "      <td>233</td>\n",
       "      <td>2</td>\n",
       "      <td>9.30</td>\n",
       "      <td>2019-01-31</td>\n",
       "      <td>2019</td>\n",
       "      <td>1</td>\n",
       "      <td>31</td>\n",
       "      <td>23</td>\n",
       "      <td>3</td>\n",
       "    </tr>\n",
       "    <tr>\n",
       "      <th>7667785</th>\n",
       "      <td>2019-01-31 23:47:48</td>\n",
       "      <td>2019-02-01 00:01:08</td>\n",
       "      <td>1</td>\n",
       "      <td>1.45</td>\n",
       "      <td>1</td>\n",
       "      <td>161</td>\n",
       "      <td>229</td>\n",
       "      <td>1</td>\n",
       "      <td>14.16</td>\n",
       "      <td>2019-01-31</td>\n",
       "      <td>2019</td>\n",
       "      <td>1</td>\n",
       "      <td>31</td>\n",
       "      <td>23</td>\n",
       "      <td>3</td>\n",
       "    </tr>\n",
       "    <tr>\n",
       "      <th>7667786</th>\n",
       "      <td>2019-01-31 23:31:54</td>\n",
       "      <td>2019-01-31 23:50:36</td>\n",
       "      <td>2</td>\n",
       "      <td>4.28</td>\n",
       "      <td>1</td>\n",
       "      <td>186</td>\n",
       "      <td>262</td>\n",
       "      <td>1</td>\n",
       "      <td>21.96</td>\n",
       "      <td>2019-01-31</td>\n",
       "      <td>2019</td>\n",
       "      <td>1</td>\n",
       "      <td>31</td>\n",
       "      <td>23</td>\n",
       "      <td>3</td>\n",
       "    </tr>\n",
       "    <tr>\n",
       "      <th>7667787</th>\n",
       "      <td>2019-01-31 23:57:36</td>\n",
       "      <td>2019-02-01 00:18:39</td>\n",
       "      <td>1</td>\n",
       "      <td>4.79</td>\n",
       "      <td>1</td>\n",
       "      <td>263</td>\n",
       "      <td>4</td>\n",
       "      <td>1</td>\n",
       "      <td>23.16</td>\n",
       "      <td>2019-01-31</td>\n",
       "      <td>2019</td>\n",
       "      <td>1</td>\n",
       "      <td>31</td>\n",
       "      <td>23</td>\n",
       "      <td>3</td>\n",
       "    </tr>\n",
       "  </tbody>\n",
       "</table>\n",
       "</div>"
      ],
      "text/plain": [
       "        tpep_pickup_datetime tpep_dropoff_datetime  passenger_count  \\\n",
       "7667783  2019-01-31 23:04:25   2019-01-31 23:17:09                2   \n",
       "7667784  2019-01-31 23:32:34   2019-01-31 23:41:40                1   \n",
       "7667785  2019-01-31 23:47:48   2019-02-01 00:01:08                1   \n",
       "7667786  2019-01-31 23:31:54   2019-01-31 23:50:36                2   \n",
       "7667787  2019-01-31 23:57:36   2019-02-01 00:18:39                1   \n",
       "\n",
       "         trip_distance RatecodeID PULocationID DOLocationID payment_type  \\\n",
       "7667783           4.15          1          186           13            2   \n",
       "7667784           1.34          1           68          233            2   \n",
       "7667785           1.45          1          161          229            1   \n",
       "7667786           4.28          1          186          262            1   \n",
       "7667787           4.79          1          263            4            1   \n",
       "\n",
       "         total_amount transaction_date  transaction_year  transaction_month  \\\n",
       "7667783         15.80       2019-01-31              2019                  1   \n",
       "7667784          9.30       2019-01-31              2019                  1   \n",
       "7667785         14.16       2019-01-31              2019                  1   \n",
       "7667786         21.96       2019-01-31              2019                  1   \n",
       "7667787         23.16       2019-01-31              2019                  1   \n",
       "\n",
       "         transaction_day  transaction_hour  transaction_weekday  \n",
       "7667783               31                23                    3  \n",
       "7667784               31                23                    3  \n",
       "7667785               31                23                    3  \n",
       "7667786               31                23                    3  \n",
       "7667787               31                23                    3  "
      ]
     },
     "execution_count": 33,
     "metadata": {},
     "output_type": "execute_result"
    }
   ],
   "source": [
    "taxi_data_prepared.tail()"
   ]
  },
  {
   "cell_type": "code",
   "execution_count": 34,
   "id": "d2560dc0",
   "metadata": {},
   "outputs": [
    {
     "data": {
      "text/plain": [
       "array([[<AxesSubplot:title={'center':'tpep_pickup_datetime'}>,\n",
       "        <AxesSubplot:title={'center':'tpep_dropoff_datetime'}>,\n",
       "        <AxesSubplot:title={'center':'passenger_count'}>],\n",
       "       [<AxesSubplot:title={'center':'trip_distance'}>,\n",
       "        <AxesSubplot:title={'center':'total_amount'}>,\n",
       "        <AxesSubplot:title={'center':'transaction_year'}>],\n",
       "       [<AxesSubplot:title={'center':'transaction_month'}>,\n",
       "        <AxesSubplot:title={'center':'transaction_day'}>,\n",
       "        <AxesSubplot:title={'center':'transaction_hour'}>],\n",
       "       [<AxesSubplot:title={'center':'transaction_weekday'}>,\n",
       "        <AxesSubplot:>, <AxesSubplot:>]], dtype=object)"
      ]
     },
     "execution_count": 34,
     "metadata": {},
     "output_type": "execute_result"
    },
    {
     "data": {
      "image/png": "[encoded data removed]",
      "text/plain": [
       "<Figure size 1440x720 with 12 Axes>"
      ]
     },
     "metadata": {},
     "output_type": "display_data"
    }
   ],
   "source": [
    "taxi_data_prepared.hist(figsize=(20,10), bins = 60)"
   ]
  },
  {
   "cell_type": "code",
   "execution_count": 35,
   "id": "b0a8c8ce",
   "metadata": {},
   "outputs": [
    {
     "data": {
      "text/html": [
       "<div>\n",
       "<style scoped>\n",
       "    .dataframe tbody tr th:only-of-type {\n",
       "        vertical-align: middle;\n",
       "    }\n",
       "\n",
       "    .dataframe tbody tr th {\n",
       "        vertical-align: top;\n",
       "    }\n",
       "\n",
       "    .dataframe thead th {\n",
       "        text-align: right;\n",
       "    }\n",
       "</style>\n",
       "<table border=\"1\" class=\"dataframe\">\n",
       "  <thead>\n",
       "    <tr style=\"text-align: right;\">\n",
       "      <th></th>\n",
       "      <th>tpep_pickup_datetime</th>\n",
       "      <th>tpep_dropoff_datetime</th>\n",
       "      <th>passenger_count</th>\n",
       "      <th>trip_distance</th>\n",
       "      <th>RatecodeID</th>\n",
       "      <th>PULocationID</th>\n",
       "      <th>DOLocationID</th>\n",
       "      <th>payment_type</th>\n",
       "      <th>total_amount</th>\n",
       "      <th>transaction_date</th>\n",
       "      <th>transaction_year</th>\n",
       "      <th>transaction_month</th>\n",
       "      <th>transaction_day</th>\n",
       "      <th>transaction_hour</th>\n",
       "      <th>transaction_weekday</th>\n",
       "    </tr>\n",
       "  </thead>\n",
       "  <tbody>\n",
       "    <tr>\n",
       "      <th>0</th>\n",
       "      <td>2019-01-01 00:46:40</td>\n",
       "      <td>2019-01-01 00:53:20</td>\n",
       "      <td>1</td>\n",
       "      <td>1.5</td>\n",
       "      <td>1</td>\n",
       "      <td>151</td>\n",
       "      <td>239</td>\n",
       "      <td>1</td>\n",
       "      <td>9.95</td>\n",
       "      <td>2019-01-01</td>\n",
       "      <td>2019</td>\n",
       "      <td>1</td>\n",
       "      <td>1</td>\n",
       "      <td>0</td>\n",
       "      <td>1</td>\n",
       "    </tr>\n",
       "    <tr>\n",
       "      <th>1</th>\n",
       "      <td>2019-01-01 00:59:47</td>\n",
       "      <td>2019-01-01 01:18:59</td>\n",
       "      <td>1</td>\n",
       "      <td>2.6</td>\n",
       "      <td>1</td>\n",
       "      <td>239</td>\n",
       "      <td>246</td>\n",
       "      <td>1</td>\n",
       "      <td>16.30</td>\n",
       "      <td>2019-01-01</td>\n",
       "      <td>2019</td>\n",
       "      <td>1</td>\n",
       "      <td>1</td>\n",
       "      <td>0</td>\n",
       "      <td>1</td>\n",
       "    </tr>\n",
       "    <tr>\n",
       "      <th>7</th>\n",
       "      <td>2019-01-01 00:21:28</td>\n",
       "      <td>2019-01-01 00:28:37</td>\n",
       "      <td>1</td>\n",
       "      <td>1.3</td>\n",
       "      <td>1</td>\n",
       "      <td>163</td>\n",
       "      <td>229</td>\n",
       "      <td>1</td>\n",
       "      <td>9.05</td>\n",
       "      <td>2019-01-01</td>\n",
       "      <td>2019</td>\n",
       "      <td>1</td>\n",
       "      <td>1</td>\n",
       "      <td>0</td>\n",
       "      <td>1</td>\n",
       "    </tr>\n",
       "    <tr>\n",
       "      <th>8</th>\n",
       "      <td>2019-01-01 00:32:01</td>\n",
       "      <td>2019-01-01 00:45:39</td>\n",
       "      <td>1</td>\n",
       "      <td>3.7</td>\n",
       "      <td>1</td>\n",
       "      <td>229</td>\n",
       "      <td>7</td>\n",
       "      <td>1</td>\n",
       "      <td>18.50</td>\n",
       "      <td>2019-01-01</td>\n",
       "      <td>2019</td>\n",
       "      <td>1</td>\n",
       "      <td>1</td>\n",
       "      <td>0</td>\n",
       "      <td>1</td>\n",
       "    </tr>\n",
       "    <tr>\n",
       "      <th>9</th>\n",
       "      <td>2019-01-01 00:57:32</td>\n",
       "      <td>2019-01-01 01:09:32</td>\n",
       "      <td>2</td>\n",
       "      <td>2.1</td>\n",
       "      <td>1</td>\n",
       "      <td>141</td>\n",
       "      <td>234</td>\n",
       "      <td>1</td>\n",
       "      <td>13.00</td>\n",
       "      <td>2019-01-01</td>\n",
       "      <td>2019</td>\n",
       "      <td>1</td>\n",
       "      <td>1</td>\n",
       "      <td>0</td>\n",
       "      <td>1</td>\n",
       "    </tr>\n",
       "  </tbody>\n",
       "</table>\n",
       "</div>"
      ],
      "text/plain": [
       "  tpep_pickup_datetime tpep_dropoff_datetime  passenger_count  trip_distance  \\\n",
       "0  2019-01-01 00:46:40   2019-01-01 00:53:20                1            1.5   \n",
       "1  2019-01-01 00:59:47   2019-01-01 01:18:59                1            2.6   \n",
       "7  2019-01-01 00:21:28   2019-01-01 00:28:37                1            1.3   \n",
       "8  2019-01-01 00:32:01   2019-01-01 00:45:39                1            3.7   \n",
       "9  2019-01-01 00:57:32   2019-01-01 01:09:32                2            2.1   \n",
       "\n",
       "  RatecodeID PULocationID DOLocationID payment_type  total_amount  \\\n",
       "0          1          151          239            1          9.95   \n",
       "1          1          239          246            1         16.30   \n",
       "7          1          163          229            1          9.05   \n",
       "8          1          229            7            1         18.50   \n",
       "9          1          141          234            1         13.00   \n",
       "\n",
       "  transaction_date  transaction_year  transaction_month  transaction_day  \\\n",
       "0       2019-01-01              2019                  1                1   \n",
       "1       2019-01-01              2019                  1                1   \n",
       "7       2019-01-01              2019                  1                1   \n",
       "8       2019-01-01              2019                  1                1   \n",
       "9       2019-01-01              2019                  1                1   \n",
       "\n",
       "   transaction_hour  transaction_weekday  \n",
       "0                 0                    1  \n",
       "1                 0                    1  \n",
       "7                 0                    1  \n",
       "8                 0                    1  \n",
       "9                 0                    1  "
      ]
     },
     "execution_count": 35,
     "metadata": {},
     "output_type": "execute_result"
    }
   ],
   "source": [
    "# taxi_data_prepared = \n",
    "taxi_data_prepared = taxi_data_prepared[(taxi_data_prepared['transaction_year']==2019)&(taxi_data_prepared['transaction_month']==1)]\n",
    "taxi_data_prepared.head()"
   ]
  },
  {
   "cell_type": "code",
   "execution_count": 36,
   "id": "ef186f7a",
   "metadata": {},
   "outputs": [
    {
     "name": "stdout",
     "output_type": "stream",
     "text": [
      "(7490296, 15)\n"
     ]
    }
   ],
   "source": [
    "print(taxi_data_prepared.shape)"
   ]
  },
  {
   "cell_type": "markdown",
   "id": "28eccd56",
   "metadata": {},
   "source": [
    "## Create average distance"
   ]
  },
  {
   "cell_type": "code",
   "execution_count": 37,
   "id": "1d68112a",
   "metadata": {},
   "outputs": [
    {
     "data": {
      "text/html": [
       "<div>\n",
       "<style scoped>\n",
       "    .dataframe tbody tr th:only-of-type {\n",
       "        vertical-align: middle;\n",
       "    }\n",
       "\n",
       "    .dataframe tbody tr th {\n",
       "        vertical-align: top;\n",
       "    }\n",
       "\n",
       "    .dataframe thead th {\n",
       "        text-align: right;\n",
       "    }\n",
       "</style>\n",
       "<table border=\"1\" class=\"dataframe\">\n",
       "  <thead>\n",
       "    <tr style=\"text-align: right;\">\n",
       "      <th></th>\n",
       "      <th>zone_x</th>\n",
       "      <th>zone_y</th>\n",
       "      <th>distance</th>\n",
       "    </tr>\n",
       "  </thead>\n",
       "  <tbody>\n",
       "    <tr>\n",
       "      <th>0</th>\n",
       "      <td>Newark Airport, EWR</td>\n",
       "      <td>Newark Airport, EWR</td>\n",
       "      <td>0.000000</td>\n",
       "    </tr>\n",
       "    <tr>\n",
       "      <th>1</th>\n",
       "      <td>Newark Airport, EWR</td>\n",
       "      <td>Jamaica Bay, Queens</td>\n",
       "      <td>27.223241</td>\n",
       "    </tr>\n",
       "    <tr>\n",
       "      <th>2</th>\n",
       "      <td>Newark Airport, EWR</td>\n",
       "      <td>Allerton/Pelham Gardens, Bronx</td>\n",
       "      <td>34.013019</td>\n",
       "    </tr>\n",
       "    <tr>\n",
       "      <th>3</th>\n",
       "      <td>Newark Airport, EWR</td>\n",
       "      <td>Alphabet City, Manhattan</td>\n",
       "      <td>17.086782</td>\n",
       "    </tr>\n",
       "    <tr>\n",
       "      <th>4</th>\n",
       "      <td>Newark Airport, EWR</td>\n",
       "      <td>Arden Heights, Staten Island</td>\n",
       "      <td>14.802332</td>\n",
       "    </tr>\n",
       "  </tbody>\n",
       "</table>\n",
       "</div>"
      ],
      "text/plain": [
       "                zone_x                          zone_y   distance\n",
       "0  Newark Airport, EWR             Newark Airport, EWR   0.000000\n",
       "1  Newark Airport, EWR             Jamaica Bay, Queens  27.223241\n",
       "2  Newark Airport, EWR  Allerton/Pelham Gardens, Bronx  34.013019\n",
       "3  Newark Airport, EWR        Alphabet City, Manhattan  17.086782\n",
       "4  Newark Airport, EWR    Arden Heights, Staten Island  14.802332"
      ]
     },
     "execution_count": 37,
     "metadata": {},
     "output_type": "execute_result"
    }
   ],
   "source": [
    "zone_distance = pd.read_csv('/Users/tomiwa/Desktop/New-York-Taxi-Analysis/data/zone_distance.csv')\n",
    "zone_distance.head()"
   ]
  },
  {
   "cell_type": "code",
   "execution_count": 38,
   "id": "f744113a",
   "metadata": {},
   "outputs": [],
   "source": [
    "zone_distance_mean = zone_distance.groupby('zone_x').agg({'distance':'mean'}).reset_index()\n",
    "zone_distance_mean.reset_index(inplace=True, drop=True)"
   ]
  },
  {
   "cell_type": "code",
   "execution_count": 39,
   "id": "7333147a",
   "metadata": {},
   "outputs": [
    {
     "data": {
      "text/html": [
       "<div>\n",
       "<style scoped>\n",
       "    .dataframe tbody tr th:only-of-type {\n",
       "        vertical-align: middle;\n",
       "    }\n",
       "\n",
       "    .dataframe tbody tr th {\n",
       "        vertical-align: top;\n",
       "    }\n",
       "\n",
       "    .dataframe thead th {\n",
       "        text-align: right;\n",
       "    }\n",
       "</style>\n",
       "<table border=\"1\" class=\"dataframe\">\n",
       "  <thead>\n",
       "    <tr style=\"text-align: right;\">\n",
       "      <th></th>\n",
       "      <th>zone_x</th>\n",
       "      <th>distance</th>\n",
       "    </tr>\n",
       "  </thead>\n",
       "  <tbody>\n",
       "    <tr>\n",
       "      <th>41</th>\n",
       "      <td>Charleston/Tottenville, Staten Island</td>\n",
       "      <td>35.779526</td>\n",
       "    </tr>\n",
       "    <tr>\n",
       "      <th>201</th>\n",
       "      <td>Rossville/Woodrow, Staten Island</td>\n",
       "      <td>31.406254</td>\n",
       "    </tr>\n",
       "    <tr>\n",
       "      <th>80</th>\n",
       "      <td>Eltingville/Annadale/Prince's Bay, Staten Island</td>\n",
       "      <td>28.885553</td>\n",
       "    </tr>\n",
       "    <tr>\n",
       "      <th>95</th>\n",
       "      <td>Freshkills Park, Staten Island</td>\n",
       "      <td>28.852356</td>\n",
       "    </tr>\n",
       "    <tr>\n",
       "      <th>2</th>\n",
       "      <td>Arden Heights, Staten Island</td>\n",
       "      <td>28.603854</td>\n",
       "    </tr>\n",
       "    <tr>\n",
       "      <th>...</th>\n",
       "      <td>...</td>\n",
       "      <td>...</td>\n",
       "    </tr>\n",
       "    <tr>\n",
       "      <th>141</th>\n",
       "      <td>Long Island City/Queens Plaza, Queens</td>\n",
       "      <td>10.966803</td>\n",
       "    </tr>\n",
       "    <tr>\n",
       "      <th>76</th>\n",
       "      <td>East Williamsburg, Brooklyn</td>\n",
       "      <td>10.951067</td>\n",
       "    </tr>\n",
       "    <tr>\n",
       "      <th>223</th>\n",
       "      <td>Sunnyside, Queens</td>\n",
       "      <td>10.945053</td>\n",
       "    </tr>\n",
       "    <tr>\n",
       "      <th>106</th>\n",
       "      <td>Greenpoint, Brooklyn</td>\n",
       "      <td>10.862557</td>\n",
       "    </tr>\n",
       "    <tr>\n",
       "      <th>167</th>\n",
       "      <td>NV, Unknown</td>\n",
       "      <td>0.000000</td>\n",
       "    </tr>\n",
       "  </tbody>\n",
       "</table>\n",
       "<p>261 rows × 2 columns</p>\n",
       "</div>"
      ],
      "text/plain": [
       "                                               zone_x   distance\n",
       "41              Charleston/Tottenville, Staten Island  35.779526\n",
       "201                  Rossville/Woodrow, Staten Island  31.406254\n",
       "80   Eltingville/Annadale/Prince's Bay, Staten Island  28.885553\n",
       "95                     Freshkills Park, Staten Island  28.852356\n",
       "2                        Arden Heights, Staten Island  28.603854\n",
       "..                                                ...        ...\n",
       "141             Long Island City/Queens Plaza, Queens  10.966803\n",
       "76                        East Williamsburg, Brooklyn  10.951067\n",
       "223                                 Sunnyside, Queens  10.945053\n",
       "106                              Greenpoint, Brooklyn  10.862557\n",
       "167                                       NV, Unknown   0.000000\n",
       "\n",
       "[261 rows x 2 columns]"
      ]
     },
     "execution_count": 39,
     "metadata": {},
     "output_type": "execute_result"
    }
   ],
   "source": [
    "zone_distance_mean.sort_values(by='distance',ascending=False)"
   ]
  },
  {
   "cell_type": "code",
   "execution_count": 40,
   "id": "8058a475",
   "metadata": {},
   "outputs": [],
   "source": [
    "taxi_location_data = taxi_data_prepared[['PULocationID','DOLocationID']]"
   ]
  },
  {
   "cell_type": "code",
   "execution_count": 41,
   "id": "0a62edc7",
   "metadata": {},
   "outputs": [
    {
     "data": {
      "text/html": [
       "<div>\n",
       "<style scoped>\n",
       "    .dataframe tbody tr th:only-of-type {\n",
       "        vertical-align: middle;\n",
       "    }\n",
       "\n",
       "    .dataframe tbody tr th {\n",
       "        vertical-align: top;\n",
       "    }\n",
       "\n",
       "    .dataframe thead th {\n",
       "        text-align: right;\n",
       "    }\n",
       "</style>\n",
       "<table border=\"1\" class=\"dataframe\">\n",
       "  <thead>\n",
       "    <tr style=\"text-align: right;\">\n",
       "      <th></th>\n",
       "      <th>locationid</th>\n",
       "      <th>zone</th>\n",
       "    </tr>\n",
       "  </thead>\n",
       "  <tbody>\n",
       "    <tr>\n",
       "      <th>0</th>\n",
       "      <td>1</td>\n",
       "      <td>Newark Airport, EWR</td>\n",
       "    </tr>\n",
       "    <tr>\n",
       "      <th>1</th>\n",
       "      <td>2</td>\n",
       "      <td>Jamaica Bay, Queens</td>\n",
       "    </tr>\n",
       "    <tr>\n",
       "      <th>2</th>\n",
       "      <td>3</td>\n",
       "      <td>Allerton/Pelham Gardens, Bronx</td>\n",
       "    </tr>\n",
       "    <tr>\n",
       "      <th>3</th>\n",
       "      <td>4</td>\n",
       "      <td>Alphabet City, Manhattan</td>\n",
       "    </tr>\n",
       "    <tr>\n",
       "      <th>4</th>\n",
       "      <td>5</td>\n",
       "      <td>Arden Heights, Staten Island</td>\n",
       "    </tr>\n",
       "    <tr>\n",
       "      <th>...</th>\n",
       "      <td>...</td>\n",
       "      <td>...</td>\n",
       "    </tr>\n",
       "    <tr>\n",
       "      <th>260</th>\n",
       "      <td>261</td>\n",
       "      <td>World Trade Center, Manhattan</td>\n",
       "    </tr>\n",
       "    <tr>\n",
       "      <th>261</th>\n",
       "      <td>262</td>\n",
       "      <td>Yorkville East, Manhattan</td>\n",
       "    </tr>\n",
       "    <tr>\n",
       "      <th>262</th>\n",
       "      <td>263</td>\n",
       "      <td>Yorkville West, Manhattan</td>\n",
       "    </tr>\n",
       "    <tr>\n",
       "      <th>263</th>\n",
       "      <td>264</td>\n",
       "      <td>NV, Unknown</td>\n",
       "    </tr>\n",
       "    <tr>\n",
       "      <th>264</th>\n",
       "      <td>265</td>\n",
       "      <td>NaN</td>\n",
       "    </tr>\n",
       "  </tbody>\n",
       "</table>\n",
       "<p>265 rows × 2 columns</p>\n",
       "</div>"
      ],
      "text/plain": [
       "    locationid                            zone\n",
       "0            1             Newark Airport, EWR\n",
       "1            2             Jamaica Bay, Queens\n",
       "2            3  Allerton/Pelham Gardens, Bronx\n",
       "3            4        Alphabet City, Manhattan\n",
       "4            5    Arden Heights, Staten Island\n",
       "..         ...                             ...\n",
       "260        261   World Trade Center, Manhattan\n",
       "261        262       Yorkville East, Manhattan\n",
       "262        263       Yorkville West, Manhattan\n",
       "263        264                     NV, Unknown\n",
       "264        265                             NaN\n",
       "\n",
       "[265 rows x 2 columns]"
      ]
     },
     "execution_count": 41,
     "metadata": {},
     "output_type": "execute_result"
    }
   ],
   "source": [
    "zone_list = (taxi_zone['Zone']+', '+taxi_zone['Borough']).to_list()\n",
    "locationid_list = taxi_zone['LocationID'].to_list()\n",
    "zone_mapping = pd.DataFrame(columns=[\"locationid\", \"zone\"])\n",
    "zone_mapping['locationid']=locationid_list\n",
    "zone_mapping['zone']=zone_list\n",
    "zone_mapping['locationid']=zone_mapping['locationid'].astype(str)\n",
    "#zone_mapping.reset_index()\n",
    "zone_mapping"
   ]
  },
  {
   "cell_type": "code",
   "execution_count": 42,
   "id": "c92ddee0",
   "metadata": {},
   "outputs": [],
   "source": [
    "zone_distance_location = zone_mapping.copy()\n",
    "zone_distance_location['distance'] = zone_distance_location['zone'].map(zone_distance_mean.set_index('zone_x')['distance'])"
   ]
  },
  {
   "cell_type": "code",
   "execution_count": 43,
   "id": "45be9138",
   "metadata": {},
   "outputs": [
    {
     "data": {
      "text/html": [
       "<div>\n",
       "<style scoped>\n",
       "    .dataframe tbody tr th:only-of-type {\n",
       "        vertical-align: middle;\n",
       "    }\n",
       "\n",
       "    .dataframe tbody tr th {\n",
       "        vertical-align: top;\n",
       "    }\n",
       "\n",
       "    .dataframe thead th {\n",
       "        text-align: right;\n",
       "    }\n",
       "</style>\n",
       "<table border=\"1\" class=\"dataframe\">\n",
       "  <thead>\n",
       "    <tr style=\"text-align: right;\">\n",
       "      <th></th>\n",
       "      <th>locationid</th>\n",
       "      <th>zone</th>\n",
       "      <th>distance</th>\n",
       "    </tr>\n",
       "  </thead>\n",
       "  <tbody>\n",
       "    <tr>\n",
       "      <th>0</th>\n",
       "      <td>1</td>\n",
       "      <td>Newark Airport, EWR</td>\n",
       "      <td>23.026420</td>\n",
       "    </tr>\n",
       "    <tr>\n",
       "      <th>1</th>\n",
       "      <td>2</td>\n",
       "      <td>Jamaica Bay, Queens</td>\n",
       "      <td>17.506916</td>\n",
       "    </tr>\n",
       "    <tr>\n",
       "      <th>2</th>\n",
       "      <td>3</td>\n",
       "      <td>Allerton/Pelham Gardens, Bronx</td>\n",
       "      <td>18.576644</td>\n",
       "    </tr>\n",
       "    <tr>\n",
       "      <th>3</th>\n",
       "      <td>4</td>\n",
       "      <td>Alphabet City, Manhattan</td>\n",
       "      <td>11.234762</td>\n",
       "    </tr>\n",
       "    <tr>\n",
       "      <th>4</th>\n",
       "      <td>5</td>\n",
       "      <td>Arden Heights, Staten Island</td>\n",
       "      <td>28.603854</td>\n",
       "    </tr>\n",
       "    <tr>\n",
       "      <th>...</th>\n",
       "      <td>...</td>\n",
       "      <td>...</td>\n",
       "      <td>...</td>\n",
       "    </tr>\n",
       "    <tr>\n",
       "      <th>260</th>\n",
       "      <td>261</td>\n",
       "      <td>World Trade Center, Manhattan</td>\n",
       "      <td>12.526450</td>\n",
       "    </tr>\n",
       "    <tr>\n",
       "      <th>261</th>\n",
       "      <td>262</td>\n",
       "      <td>Yorkville East, Manhattan</td>\n",
       "      <td>11.716461</td>\n",
       "    </tr>\n",
       "    <tr>\n",
       "      <th>262</th>\n",
       "      <td>263</td>\n",
       "      <td>Yorkville West, Manhattan</td>\n",
       "      <td>11.716461</td>\n",
       "    </tr>\n",
       "    <tr>\n",
       "      <th>263</th>\n",
       "      <td>264</td>\n",
       "      <td>NV, Unknown</td>\n",
       "      <td>0.000000</td>\n",
       "    </tr>\n",
       "    <tr>\n",
       "      <th>264</th>\n",
       "      <td>265</td>\n",
       "      <td>NaN</td>\n",
       "      <td>15.111002</td>\n",
       "    </tr>\n",
       "  </tbody>\n",
       "</table>\n",
       "<p>265 rows × 3 columns</p>\n",
       "</div>"
      ],
      "text/plain": [
       "    locationid                            zone   distance\n",
       "0            1             Newark Airport, EWR  23.026420\n",
       "1            2             Jamaica Bay, Queens  17.506916\n",
       "2            3  Allerton/Pelham Gardens, Bronx  18.576644\n",
       "3            4        Alphabet City, Manhattan  11.234762\n",
       "4            5    Arden Heights, Staten Island  28.603854\n",
       "..         ...                             ...        ...\n",
       "260        261   World Trade Center, Manhattan  12.526450\n",
       "261        262       Yorkville East, Manhattan  11.716461\n",
       "262        263       Yorkville West, Manhattan  11.716461\n",
       "263        264                     NV, Unknown   0.000000\n",
       "264        265                             NaN  15.111002\n",
       "\n",
       "[265 rows x 3 columns]"
      ]
     },
     "execution_count": 43,
     "metadata": {},
     "output_type": "execute_result"
    }
   ],
   "source": [
    "#zone_distance_location[zone_distance_location['locationid']=='216']\n",
    "zone_distance_location['distance'].fillna(zone_distance_location['distance'].mean(), inplace=True)\n",
    "zone_distance_location\n",
    "#zone_distance_location[zone_distance_location['locationid']=='1']"
   ]
  },
  {
   "cell_type": "code",
   "execution_count": 44,
   "id": "e939a442",
   "metadata": {},
   "outputs": [
    {
     "data": {
      "text/html": [
       "<div>\n",
       "<style scoped>\n",
       "    .dataframe tbody tr th:only-of-type {\n",
       "        vertical-align: middle;\n",
       "    }\n",
       "\n",
       "    .dataframe tbody tr th {\n",
       "        vertical-align: top;\n",
       "    }\n",
       "\n",
       "    .dataframe thead th {\n",
       "        text-align: right;\n",
       "    }\n",
       "</style>\n",
       "<table border=\"1\" class=\"dataframe\">\n",
       "  <thead>\n",
       "    <tr style=\"text-align: right;\">\n",
       "      <th></th>\n",
       "      <th>locationid</th>\n",
       "      <th>zone</th>\n",
       "      <th>distance</th>\n",
       "    </tr>\n",
       "  </thead>\n",
       "  <tbody>\n",
       "    <tr>\n",
       "      <th>0</th>\n",
       "      <td>1</td>\n",
       "      <td>Newark Airport, EWR</td>\n",
       "      <td>23.02642</td>\n",
       "    </tr>\n",
       "  </tbody>\n",
       "</table>\n",
       "</div>"
      ],
      "text/plain": [
       "  locationid                 zone  distance\n",
       "0          1  Newark Airport, EWR  23.02642"
      ]
     },
     "execution_count": 44,
     "metadata": {},
     "output_type": "execute_result"
    }
   ],
   "source": [
    "zone_distance_location[zone_distance_location['locationid']=='1']"
   ]
  },
  {
   "cell_type": "code",
   "execution_count": 45,
   "id": "e247c8b3",
   "metadata": {},
   "outputs": [
    {
     "name": "stderr",
     "output_type": "stream",
     "text": [
      "/var/folders/sf/8rk47_f570sgpsxcjwrpxd9m0000gn/T/ipykernel_1022/2362877982.py:1: SettingWithCopyWarning: \n",
      "A value is trying to be set on a copy of a slice from a DataFrame.\n",
      "Try using .loc[row_indexer,col_indexer] = value instead\n",
      "\n",
      "See the caveats in the documentation: https://pandas.pydata.org/pandas-docs/stable/user_guide/indexing.html#returning-a-view-versus-a-copy\n",
      "  taxi_location_data['puzone'] = taxi_location_data['PULocationID'].map(zone_mapping.set_index('locationid')['zone'])\n",
      "/var/folders/sf/8rk47_f570sgpsxcjwrpxd9m0000gn/T/ipykernel_1022/2362877982.py:2: SettingWithCopyWarning: \n",
      "A value is trying to be set on a copy of a slice from a DataFrame.\n",
      "Try using .loc[row_indexer,col_indexer] = value instead\n",
      "\n",
      "See the caveats in the documentation: https://pandas.pydata.org/pandas-docs/stable/user_guide/indexing.html#returning-a-view-versus-a-copy\n",
      "  taxi_location_data['dozone'] = taxi_location_data['DOLocationID'].map(zone_mapping.set_index('locationid')['zone'])\n"
     ]
    }
   ],
   "source": [
    "taxi_location_data['puzone'] = taxi_location_data['PULocationID'].map(zone_mapping.set_index('locationid')['zone'])\n",
    "taxi_location_data['dozone'] = taxi_location_data['DOLocationID'].map(zone_mapping.set_index('locationid')['zone'])"
   ]
  },
  {
   "cell_type": "code",
   "execution_count": null,
   "id": "7b084437",
   "metadata": {},
   "outputs": [],
   "source": []
  },
  {
   "cell_type": "markdown",
   "id": "65d8cd9b",
   "metadata": {},
   "source": [
    " ## Format"
   ]
  },
  {
   "cell_type": "code",
   "execution_count": 46,
   "id": "8c3030e8",
   "metadata": {},
   "outputs": [
    {
     "data": {
      "text/html": [
       "<div>\n",
       "<style scoped>\n",
       "    .dataframe tbody tr th:only-of-type {\n",
       "        vertical-align: middle;\n",
       "    }\n",
       "\n",
       "    .dataframe tbody tr th {\n",
       "        vertical-align: top;\n",
       "    }\n",
       "\n",
       "    .dataframe thead th {\n",
       "        text-align: right;\n",
       "    }\n",
       "</style>\n",
       "<table border=\"1\" class=\"dataframe\">\n",
       "  <thead>\n",
       "    <tr style=\"text-align: right;\">\n",
       "      <th></th>\n",
       "      <th>tpep_pickup_datetime</th>\n",
       "      <th>tpep_dropoff_datetime</th>\n",
       "      <th>passenger_count</th>\n",
       "      <th>trip_distance</th>\n",
       "      <th>RatecodeID</th>\n",
       "      <th>PULocationID</th>\n",
       "      <th>DOLocationID</th>\n",
       "      <th>payment_type</th>\n",
       "      <th>total_amount</th>\n",
       "      <th>transaction_date</th>\n",
       "      <th>transaction_year</th>\n",
       "      <th>transaction_month</th>\n",
       "      <th>transaction_day</th>\n",
       "      <th>transaction_hour</th>\n",
       "      <th>transaction_weekday</th>\n",
       "    </tr>\n",
       "  </thead>\n",
       "  <tbody>\n",
       "    <tr>\n",
       "      <th>0</th>\n",
       "      <td>2019-01-01 00:46:40</td>\n",
       "      <td>2019-01-01 00:53:20</td>\n",
       "      <td>1</td>\n",
       "      <td>1.5</td>\n",
       "      <td>1</td>\n",
       "      <td>151</td>\n",
       "      <td>239</td>\n",
       "      <td>1</td>\n",
       "      <td>9.95</td>\n",
       "      <td>2019-01-01</td>\n",
       "      <td>2019</td>\n",
       "      <td>1</td>\n",
       "      <td>1</td>\n",
       "      <td>0</td>\n",
       "      <td>1</td>\n",
       "    </tr>\n",
       "    <tr>\n",
       "      <th>1</th>\n",
       "      <td>2019-01-01 00:59:47</td>\n",
       "      <td>2019-01-01 01:18:59</td>\n",
       "      <td>1</td>\n",
       "      <td>2.6</td>\n",
       "      <td>1</td>\n",
       "      <td>239</td>\n",
       "      <td>246</td>\n",
       "      <td>1</td>\n",
       "      <td>16.30</td>\n",
       "      <td>2019-01-01</td>\n",
       "      <td>2019</td>\n",
       "      <td>1</td>\n",
       "      <td>1</td>\n",
       "      <td>0</td>\n",
       "      <td>1</td>\n",
       "    </tr>\n",
       "    <tr>\n",
       "      <th>7</th>\n",
       "      <td>2019-01-01 00:21:28</td>\n",
       "      <td>2019-01-01 00:28:37</td>\n",
       "      <td>1</td>\n",
       "      <td>1.3</td>\n",
       "      <td>1</td>\n",
       "      <td>163</td>\n",
       "      <td>229</td>\n",
       "      <td>1</td>\n",
       "      <td>9.05</td>\n",
       "      <td>2019-01-01</td>\n",
       "      <td>2019</td>\n",
       "      <td>1</td>\n",
       "      <td>1</td>\n",
       "      <td>0</td>\n",
       "      <td>1</td>\n",
       "    </tr>\n",
       "    <tr>\n",
       "      <th>8</th>\n",
       "      <td>2019-01-01 00:32:01</td>\n",
       "      <td>2019-01-01 00:45:39</td>\n",
       "      <td>1</td>\n",
       "      <td>3.7</td>\n",
       "      <td>1</td>\n",
       "      <td>229</td>\n",
       "      <td>7</td>\n",
       "      <td>1</td>\n",
       "      <td>18.50</td>\n",
       "      <td>2019-01-01</td>\n",
       "      <td>2019</td>\n",
       "      <td>1</td>\n",
       "      <td>1</td>\n",
       "      <td>0</td>\n",
       "      <td>1</td>\n",
       "    </tr>\n",
       "    <tr>\n",
       "      <th>9</th>\n",
       "      <td>2019-01-01 00:57:32</td>\n",
       "      <td>2019-01-01 01:09:32</td>\n",
       "      <td>2</td>\n",
       "      <td>2.1</td>\n",
       "      <td>1</td>\n",
       "      <td>141</td>\n",
       "      <td>234</td>\n",
       "      <td>1</td>\n",
       "      <td>13.00</td>\n",
       "      <td>2019-01-01</td>\n",
       "      <td>2019</td>\n",
       "      <td>1</td>\n",
       "      <td>1</td>\n",
       "      <td>0</td>\n",
       "      <td>1</td>\n",
       "    </tr>\n",
       "  </tbody>\n",
       "</table>\n",
       "</div>"
      ],
      "text/plain": [
       "  tpep_pickup_datetime tpep_dropoff_datetime  passenger_count  trip_distance  \\\n",
       "0  2019-01-01 00:46:40   2019-01-01 00:53:20                1            1.5   \n",
       "1  2019-01-01 00:59:47   2019-01-01 01:18:59                1            2.6   \n",
       "7  2019-01-01 00:21:28   2019-01-01 00:28:37                1            1.3   \n",
       "8  2019-01-01 00:32:01   2019-01-01 00:45:39                1            3.7   \n",
       "9  2019-01-01 00:57:32   2019-01-01 01:09:32                2            2.1   \n",
       "\n",
       "  RatecodeID PULocationID DOLocationID payment_type  total_amount  \\\n",
       "0          1          151          239            1          9.95   \n",
       "1          1          239          246            1         16.30   \n",
       "7          1          163          229            1          9.05   \n",
       "8          1          229            7            1         18.50   \n",
       "9          1          141          234            1         13.00   \n",
       "\n",
       "  transaction_date  transaction_year  transaction_month  transaction_day  \\\n",
       "0       2019-01-01              2019                  1                1   \n",
       "1       2019-01-01              2019                  1                1   \n",
       "7       2019-01-01              2019                  1                1   \n",
       "8       2019-01-01              2019                  1                1   \n",
       "9       2019-01-01              2019                  1                1   \n",
       "\n",
       "   transaction_hour  transaction_weekday  \n",
       "0                 0                    1  \n",
       "1                 0                    1  \n",
       "7                 0                    1  \n",
       "8                 0                    1  \n",
       "9                 0                    1  "
      ]
     },
     "execution_count": 46,
     "metadata": {},
     "output_type": "execute_result"
    }
   ],
   "source": [
    "taxi_data_prepared.head()"
   ]
  },
  {
   "cell_type": "code",
   "execution_count": 47,
   "id": "5b49d7ce",
   "metadata": {},
   "outputs": [],
   "source": [
    "categorical_columns = [  'transaction_date'\n",
    "#                         ,'transaction_year'\n",
    "                        ,'transaction_month'\n",
    "                        ,'transaction_day'\n",
    "                        ,'transaction_weekday'\n",
    "                        ,'transaction_hour'\n",
    "#                         ,'RatecodeID'\n",
    "                        ,'DOLocationID'\n",
    "                        ,'PULocationID']\n",
    "numerical_columns = ['trip_distance' ,'total_amount']\n",
    "all_needed_columns = categorical_columns+numerical_columns\n",
    "taxi_data_condensed = taxi_data_prepared[all_needed_columns]"
   ]
  },
  {
   "cell_type": "code",
   "execution_count": 48,
   "id": "2c6e487e",
   "metadata": {},
   "outputs": [],
   "source": [
    "taxi_data_grouped = taxi_data_condensed.groupby(categorical_columns).agg({'trip_distance': 'mean', 'total_amount': 'mean'}).reset_index()\n",
    "taxi_data_grouped['count_of_transactions'] = taxi_data_condensed.groupby(categorical_columns).agg({'total_amount':'size'}).reset_index()['total_amount']"
   ]
  },
  {
   "cell_type": "code",
   "execution_count": 49,
   "id": "a3534bd7",
   "metadata": {},
   "outputs": [
    {
     "name": "stdout",
     "output_type": "stream",
     "text": [
      "(1836123, 10)\n"
     ]
    }
   ],
   "source": [
    "print(taxi_data_grouped.shape)"
   ]
  },
  {
   "cell_type": "code",
   "execution_count": 50,
   "id": "a3802183",
   "metadata": {},
   "outputs": [
    {
     "data": {
      "text/html": [
       "<div>\n",
       "<style scoped>\n",
       "    .dataframe tbody tr th:only-of-type {\n",
       "        vertical-align: middle;\n",
       "    }\n",
       "\n",
       "    .dataframe tbody tr th {\n",
       "        vertical-align: top;\n",
       "    }\n",
       "\n",
       "    .dataframe thead th {\n",
       "        text-align: right;\n",
       "    }\n",
       "</style>\n",
       "<table border=\"1\" class=\"dataframe\">\n",
       "  <thead>\n",
       "    <tr style=\"text-align: right;\">\n",
       "      <th></th>\n",
       "      <th>transaction_date</th>\n",
       "      <th>transaction_month</th>\n",
       "      <th>transaction_day</th>\n",
       "      <th>transaction_weekday</th>\n",
       "      <th>transaction_hour</th>\n",
       "      <th>DOLocationID</th>\n",
       "      <th>PULocationID</th>\n",
       "      <th>trip_distance</th>\n",
       "      <th>total_amount</th>\n",
       "      <th>count_of_transactions</th>\n",
       "    </tr>\n",
       "  </thead>\n",
       "  <tbody>\n",
       "    <tr>\n",
       "      <th>0</th>\n",
       "      <td>2019-01-01</td>\n",
       "      <td>1</td>\n",
       "      <td>1</td>\n",
       "      <td>1</td>\n",
       "      <td>0</td>\n",
       "      <td>1</td>\n",
       "      <td>216</td>\n",
       "      <td>33.190000</td>\n",
       "      <td>120.80</td>\n",
       "      <td>1</td>\n",
       "    </tr>\n",
       "    <tr>\n",
       "      <th>1</th>\n",
       "      <td>2019-01-01</td>\n",
       "      <td>1</td>\n",
       "      <td>1</td>\n",
       "      <td>1</td>\n",
       "      <td>0</td>\n",
       "      <td>1</td>\n",
       "      <td>87</td>\n",
       "      <td>13.900000</td>\n",
       "      <td>84.96</td>\n",
       "      <td>1</td>\n",
       "    </tr>\n",
       "    <tr>\n",
       "      <th>2</th>\n",
       "      <td>2019-01-01</td>\n",
       "      <td>1</td>\n",
       "      <td>1</td>\n",
       "      <td>1</td>\n",
       "      <td>0</td>\n",
       "      <td>10</td>\n",
       "      <td>132</td>\n",
       "      <td>3.943333</td>\n",
       "      <td>16.55</td>\n",
       "      <td>3</td>\n",
       "    </tr>\n",
       "    <tr>\n",
       "      <th>3</th>\n",
       "      <td>2019-01-01</td>\n",
       "      <td>1</td>\n",
       "      <td>1</td>\n",
       "      <td>1</td>\n",
       "      <td>0</td>\n",
       "      <td>10</td>\n",
       "      <td>161</td>\n",
       "      <td>18.400000</td>\n",
       "      <td>66.06</td>\n",
       "      <td>1</td>\n",
       "    </tr>\n",
       "    <tr>\n",
       "      <th>4</th>\n",
       "      <td>2019-01-01</td>\n",
       "      <td>1</td>\n",
       "      <td>1</td>\n",
       "      <td>1</td>\n",
       "      <td>0</td>\n",
       "      <td>10</td>\n",
       "      <td>205</td>\n",
       "      <td>2.220000</td>\n",
       "      <td>10.80</td>\n",
       "      <td>2</td>\n",
       "    </tr>\n",
       "  </tbody>\n",
       "</table>\n",
       "</div>"
      ],
      "text/plain": [
       "  transaction_date  transaction_month  transaction_day  transaction_weekday  \\\n",
       "0       2019-01-01                  1                1                    1   \n",
       "1       2019-01-01                  1                1                    1   \n",
       "2       2019-01-01                  1                1                    1   \n",
       "3       2019-01-01                  1                1                    1   \n",
       "4       2019-01-01                  1                1                    1   \n",
       "\n",
       "   transaction_hour DOLocationID PULocationID  trip_distance  total_amount  \\\n",
       "0                 0            1          216      33.190000        120.80   \n",
       "1                 0            1           87      13.900000         84.96   \n",
       "2                 0           10          132       3.943333         16.55   \n",
       "3                 0           10          161      18.400000         66.06   \n",
       "4                 0           10          205       2.220000         10.80   \n",
       "\n",
       "   count_of_transactions  \n",
       "0                      1  \n",
       "1                      1  \n",
       "2                      3  \n",
       "3                      1  \n",
       "4                      2  "
      ]
     },
     "execution_count": 50,
     "metadata": {},
     "output_type": "execute_result"
    }
   ],
   "source": [
    "taxi_data_grouped.head()"
   ]
  },
  {
   "cell_type": "code",
   "execution_count": 51,
   "id": "60988d3b",
   "metadata": {},
   "outputs": [],
   "source": [
    "def hour_category(x):\n",
    "    if x>=0 and x<=5:\n",
    "        output = 1\n",
    "    if x>5 and x<=15:\n",
    "        output = 2\n",
    "    if x>15 and x <=19:\n",
    "        output = 3\n",
    "    if x>19:\n",
    "        output = 1\n",
    "    return output\n",
    "\n",
    "taxi_data_grouped['hour_category'] = taxi_data_grouped['transaction_hour'].apply(lambda x: hour_category(x))"
   ]
  },
  {
   "cell_type": "code",
   "execution_count": 52,
   "id": "095b15a7",
   "metadata": {},
   "outputs": [],
   "source": [
    "taxi_data_grouped['is_weekend'] = taxi_data_grouped['transaction_weekday'].apply(lambda x: 1 if x == 5 or x ==6 else 0)"
   ]
  },
  {
   "cell_type": "code",
   "execution_count": 53,
   "id": "9ebd3cf3",
   "metadata": {},
   "outputs": [],
   "source": [
    "taxi_zone['LocationID'] = taxi_zone['LocationID'].astype(str)"
   ]
  },
  {
   "cell_type": "code",
   "execution_count": 54,
   "id": "d2340295",
   "metadata": {},
   "outputs": [],
   "source": [
    "taxi_data_grouped['borough'] = taxi_data_grouped.merge(taxi_zone, left_on='PULocationID', right_on='LocationID')['Borough']"
   ]
  },
  {
   "cell_type": "code",
   "execution_count": 55,
   "id": "dcdcdab5",
   "metadata": {},
   "outputs": [],
   "source": [
    "# taxi_data_grouped_borough_count = taxi_data_grouped.groupby(['transaction_date', 'transaction_hour', 'borough']).agg({'count_of_transactions':'sum'}).reset_index()\n",
    "# taxi_data_grouped_borough_count['count_of_borough_transactions'] = taxi_data_grouped_borough_count['count_of_transactions']\n",
    "\n",
    "\n",
    "# taxi_data_grouped['count_of_borough_transactions'] =taxi_data_grouped.merge(taxi_data_grouped_borough_count, left_on=['transaction_date', 'transaction_hour', 'borough'], right_on=['transaction_date', 'transaction_hour', 'borough'])['count_of_borough_transactions']"
   ]
  },
  {
   "cell_type": "code",
   "execution_count": 56,
   "id": "dee67517",
   "metadata": {},
   "outputs": [
    {
     "ename": "KeyError",
     "evalue": "\"['count_of_borough_transactions'] not in index\"",
     "output_type": "error",
     "traceback": [
      "\u001b[0;31m---------------------------------------------------------------------------\u001b[0m",
      "\u001b[0;31mKeyError\u001b[0m                                  Traceback (most recent call last)",
      "Input \u001b[0;32mIn [56]\u001b[0m, in \u001b[0;36m<cell line: 1>\u001b[0;34m()\u001b[0m\n\u001b[0;32m----> 1\u001b[0m \u001b[43mtaxi_data_grouped\u001b[49m\u001b[43m[\u001b[49m\u001b[43m[\u001b[49m\u001b[38;5;124;43m'\u001b[39;49m\u001b[38;5;124;43mtransaction_date\u001b[39;49m\u001b[38;5;124;43m'\u001b[39;49m\u001b[43m,\u001b[49m\u001b[43m \u001b[49m\u001b[38;5;124;43m'\u001b[39;49m\u001b[38;5;124;43mtransaction_hour\u001b[39;49m\u001b[38;5;124;43m'\u001b[39;49m\u001b[43m,\u001b[49m\u001b[43m \u001b[49m\u001b[38;5;124;43m'\u001b[39;49m\u001b[38;5;124;43mborough\u001b[39;49m\u001b[38;5;124;43m'\u001b[39;49m\u001b[43m,\u001b[49m\u001b[43m \u001b[49m\u001b[38;5;124;43m'\u001b[39;49m\u001b[38;5;124;43mcount_of_borough_transactions\u001b[39;49m\u001b[38;5;124;43m'\u001b[39;49m\u001b[43m]\u001b[49m\u001b[43m]\u001b[49m\n",
      "File \u001b[0;32m~/opt/anaconda3/lib/python3.9/site-packages/pandas/core/frame.py:3511\u001b[0m, in \u001b[0;36mDataFrame.__getitem__\u001b[0;34m(self, key)\u001b[0m\n\u001b[1;32m   3509\u001b[0m     \u001b[38;5;28;01mif\u001b[39;00m is_iterator(key):\n\u001b[1;32m   3510\u001b[0m         key \u001b[38;5;241m=\u001b[39m \u001b[38;5;28mlist\u001b[39m(key)\n\u001b[0;32m-> 3511\u001b[0m     indexer \u001b[38;5;241m=\u001b[39m \u001b[38;5;28;43mself\u001b[39;49m\u001b[38;5;241;43m.\u001b[39;49m\u001b[43mcolumns\u001b[49m\u001b[38;5;241;43m.\u001b[39;49m\u001b[43m_get_indexer_strict\u001b[49m\u001b[43m(\u001b[49m\u001b[43mkey\u001b[49m\u001b[43m,\u001b[49m\u001b[43m \u001b[49m\u001b[38;5;124;43m\"\u001b[39;49m\u001b[38;5;124;43mcolumns\u001b[39;49m\u001b[38;5;124;43m\"\u001b[39;49m\u001b[43m)\u001b[49m[\u001b[38;5;241m1\u001b[39m]\n\u001b[1;32m   3513\u001b[0m \u001b[38;5;66;03m# take() does not accept boolean indexers\u001b[39;00m\n\u001b[1;32m   3514\u001b[0m \u001b[38;5;28;01mif\u001b[39;00m \u001b[38;5;28mgetattr\u001b[39m(indexer, \u001b[38;5;124m\"\u001b[39m\u001b[38;5;124mdtype\u001b[39m\u001b[38;5;124m\"\u001b[39m, \u001b[38;5;28;01mNone\u001b[39;00m) \u001b[38;5;241m==\u001b[39m \u001b[38;5;28mbool\u001b[39m:\n",
      "File \u001b[0;32m~/opt/anaconda3/lib/python3.9/site-packages/pandas/core/indexes/base.py:5782\u001b[0m, in \u001b[0;36mIndex._get_indexer_strict\u001b[0;34m(self, key, axis_name)\u001b[0m\n\u001b[1;32m   5779\u001b[0m \u001b[38;5;28;01melse\u001b[39;00m:\n\u001b[1;32m   5780\u001b[0m     keyarr, indexer, new_indexer \u001b[38;5;241m=\u001b[39m \u001b[38;5;28mself\u001b[39m\u001b[38;5;241m.\u001b[39m_reindex_non_unique(keyarr)\n\u001b[0;32m-> 5782\u001b[0m \u001b[38;5;28;43mself\u001b[39;49m\u001b[38;5;241;43m.\u001b[39;49m\u001b[43m_raise_if_missing\u001b[49m\u001b[43m(\u001b[49m\u001b[43mkeyarr\u001b[49m\u001b[43m,\u001b[49m\u001b[43m \u001b[49m\u001b[43mindexer\u001b[49m\u001b[43m,\u001b[49m\u001b[43m \u001b[49m\u001b[43maxis_name\u001b[49m\u001b[43m)\u001b[49m\n\u001b[1;32m   5784\u001b[0m keyarr \u001b[38;5;241m=\u001b[39m \u001b[38;5;28mself\u001b[39m\u001b[38;5;241m.\u001b[39mtake(indexer)\n\u001b[1;32m   5785\u001b[0m \u001b[38;5;28;01mif\u001b[39;00m \u001b[38;5;28misinstance\u001b[39m(key, Index):\n\u001b[1;32m   5786\u001b[0m     \u001b[38;5;66;03m# GH 42790 - Preserve name from an Index\u001b[39;00m\n",
      "File \u001b[0;32m~/opt/anaconda3/lib/python3.9/site-packages/pandas/core/indexes/base.py:5845\u001b[0m, in \u001b[0;36mIndex._raise_if_missing\u001b[0;34m(self, key, indexer, axis_name)\u001b[0m\n\u001b[1;32m   5842\u001b[0m     \u001b[38;5;28;01mraise\u001b[39;00m \u001b[38;5;167;01mKeyError\u001b[39;00m(\u001b[38;5;124mf\u001b[39m\u001b[38;5;124m\"\u001b[39m\u001b[38;5;124mNone of [\u001b[39m\u001b[38;5;132;01m{\u001b[39;00mkey\u001b[38;5;132;01m}\u001b[39;00m\u001b[38;5;124m] are in the [\u001b[39m\u001b[38;5;132;01m{\u001b[39;00maxis_name\u001b[38;5;132;01m}\u001b[39;00m\u001b[38;5;124m]\u001b[39m\u001b[38;5;124m\"\u001b[39m)\n\u001b[1;32m   5844\u001b[0m not_found \u001b[38;5;241m=\u001b[39m \u001b[38;5;28mlist\u001b[39m(ensure_index(key)[missing_mask\u001b[38;5;241m.\u001b[39mnonzero()[\u001b[38;5;241m0\u001b[39m]]\u001b[38;5;241m.\u001b[39munique())\n\u001b[0;32m-> 5845\u001b[0m \u001b[38;5;28;01mraise\u001b[39;00m \u001b[38;5;167;01mKeyError\u001b[39;00m(\u001b[38;5;124mf\u001b[39m\u001b[38;5;124m\"\u001b[39m\u001b[38;5;132;01m{\u001b[39;00mnot_found\u001b[38;5;132;01m}\u001b[39;00m\u001b[38;5;124m not in index\u001b[39m\u001b[38;5;124m\"\u001b[39m)\n",
      "\u001b[0;31mKeyError\u001b[0m: \"['count_of_borough_transactions'] not in index\""
     ]
    }
   ],
   "source": [
    "taxi_data_grouped[['transaction_date', 'transaction_hour', 'borough', 'count_of_borough_transactions']]"
   ]
  },
  {
   "cell_type": "code",
   "execution_count": 57,
   "id": "8222a58e",
   "metadata": {},
   "outputs": [
    {
     "data": {
      "text/html": [
       "<div>\n",
       "<style scoped>\n",
       "    .dataframe tbody tr th:only-of-type {\n",
       "        vertical-align: middle;\n",
       "    }\n",
       "\n",
       "    .dataframe tbody tr th {\n",
       "        vertical-align: top;\n",
       "    }\n",
       "\n",
       "    .dataframe thead th {\n",
       "        text-align: right;\n",
       "    }\n",
       "</style>\n",
       "<table border=\"1\" class=\"dataframe\">\n",
       "  <thead>\n",
       "    <tr style=\"text-align: right;\">\n",
       "      <th></th>\n",
       "      <th>count_of_transactions</th>\n",
       "    </tr>\n",
       "    <tr>\n",
       "      <th>borough</th>\n",
       "      <th></th>\n",
       "    </tr>\n",
       "  </thead>\n",
       "  <tbody>\n",
       "    <tr>\n",
       "      <th>Manhattan</th>\n",
       "      <td>8674</td>\n",
       "    </tr>\n",
       "    <tr>\n",
       "      <th>Queens</th>\n",
       "      <td>4477</td>\n",
       "    </tr>\n",
       "  </tbody>\n",
       "</table>\n",
       "</div>"
      ],
      "text/plain": [
       "           count_of_transactions\n",
       "borough                         \n",
       "Manhattan                   8674\n",
       "Queens                      4477"
      ]
     },
     "execution_count": 57,
     "metadata": {},
     "output_type": "execute_result"
    }
   ],
   "source": [
    "taxi_data_grouped[(taxi_data_grouped['transaction_hour']==0) & (taxi_data_grouped['transaction_day']==1)].groupby('borough').agg({'count_of_transactions':'sum'})"
   ]
  },
  {
   "cell_type": "code",
   "execution_count": 61,
   "id": "7788f7dd",
   "metadata": {},
   "outputs": [
    {
     "data": {
      "text/plain": [
       "transaction_date          object\n",
       "transaction_month          int64\n",
       "transaction_day            int64\n",
       "transaction_weekday        int64\n",
       "transaction_hour           int64\n",
       "DOLocationID              object\n",
       "PULocationID              object\n",
       "trip_distance            float64\n",
       "total_amount             float64\n",
       "count_of_transactions      int64\n",
       "hour_category              int64\n",
       "is_weekend                 int64\n",
       "borough                   object\n",
       "distance                 float64\n",
       "dtype: object"
      ]
     },
     "execution_count": 61,
     "metadata": {},
     "output_type": "execute_result"
    }
   ],
   "source": [
    "taxi_data_grouped['distance'] =taxi_data_grouped['PULocationID'].map(zone_distance_location.set_index('locationid')['distance'])\n",
    "taxi_data_grouped.head()\n",
    "taxi_data_grouped.dtypes"
   ]
  },
  {
   "cell_type": "code",
   "execution_count": null,
   "id": "5d4b2f3b",
   "metadata": {},
   "outputs": [],
   "source": [
    "taxi_data_grouped.groupby('PULocationID').agg({'total_amount':'mean', 'distance':'mean'}).reset_index().plot(figsize=(20,10), kind='scatter', x='total_amount', y='distance')"
   ]
  },
  {
   "cell_type": "markdown",
   "id": "b47c7c78",
   "metadata": {},
   "source": [
    "## Benchmark Model\n",
    "Benchmark that needs to be passed\\\n",
    "What can already be done with current features\\\n",
    "Which ones are the input features?\\\n",
    "Which are the target features?\\\n",
    "Day & Hour - in categorical because they have a circular relationship"
   ]
  },
  {
   "cell_type": "code",
   "execution_count": 62,
   "id": "8cbe17fd",
   "metadata": {},
   "outputs": [],
   "source": [
    "data_for_benchmark_model = taxi_data_grouped.copy()"
   ]
  },
  {
   "cell_type": "code",
   "execution_count": 75,
   "id": "e2a7f4cf",
   "metadata": {},
   "outputs": [],
   "source": [
    "categorical_features_benchmark = ['PULocationID','transaction_day','transaction_hour']\n",
    "input_features_benchmark = categorical_features_benchmark+['count_of_transactions']\n",
    "target_feature_benchmark = 'total_amount'"
   ]
  },
  {
   "cell_type": "code",
   "execution_count": 76,
   "id": "0f8c2aa0",
   "metadata": {},
   "outputs": [],
   "source": [
    "#train-test-split\n",
    "#80%-20% common\n",
    "#want to have enough data to train model+for testing\n",
    "#there's a lot of data, so you can go for the highest bordeline in terms of train-test - 1/3train, 2/3test\n",
    "from sklearn.model_selection import train_test_split\n",
    "\n",
    "X_bench = data_for_benchmark_model[input_features_benchmark]\n",
    "y_bench = data_for_benchmark_model[target_feature_benchmark]\n",
    "\n",
    "# one-hot encode - turning categories into numbers\n",
    "X_bench = pd.get_dummies(X_bench)\n",
    "\n",
    "X_train_b, X_test_b, y_train_b, y_test_b = train_test_split(X_bench, y_bench, test_size=0.33, random_state=42)"
   ]
  },
  {
   "cell_type": "code",
   "execution_count": 77,
   "id": "92ef8b67",
   "metadata": {},
   "outputs": [
    {
     "data": {
      "text/plain": [
       "DecisionTreeRegressor(max_depth=10)"
      ]
     },
     "execution_count": 77,
     "metadata": {},
     "output_type": "execute_result"
    }
   ],
   "source": [
    "from sklearn.tree import DecisionTreeRegressor\n",
    "\n",
    "#hyper parameter, how deep should the decision tree go\n",
    "#machine learning is finding out the best hyperparameter to use\n",
    "tree = DecisionTreeRegressor(max_depth=10) \n",
    "tree.fit(X_train_b, y_train_b)"
   ]
  },
  {
   "cell_type": "markdown",
   "id": "9f9245a5",
   "metadata": {},
   "source": [
    "## model evaluation"
   ]
  },
  {
   "cell_type": "code",
   "execution_count": 78,
   "id": "91b9cab2",
   "metadata": {},
   "outputs": [
    {
     "name": "stdout",
     "output_type": "stream",
     "text": [
      "mean_absolute_error 8.34420755314254\n",
      "mean_squared_error 168.7107675117063\n",
      "root_mean_squared_error 12.988870909809917\n",
      "r2 0.3379711344540275\n"
     ]
    }
   ],
   "source": [
    "model_at_hand = tree\n",
    "y_pred_b = model_at_hand.predict(X_test_b)\n",
    "\n",
    "from sklearn.metrics import mean_absolute_error\n",
    "from sklearn.metrics import mean_squared_error\n",
    "from sklearn.metrics import r2_score\n",
    "from math import sqrt\n",
    "\n",
    "print('mean_absolute_error', mean_absolute_error(y_test_b, y_pred_b))\n",
    "print('mean_squared_error', mean_squared_error(y_test_b, y_pred_b))\n",
    "print('root_mean_squared_error', sqrt(mean_squared_error(y_test_b, y_pred_b)))\n",
    "print('r2', r2_score(y_test_b, y_pred_b))\n",
    "\n",
    "# mean_absolute_error 8.216425240961799\n",
    "# mean_squared_error 164.92270464146864\n",
    "# root_mean_squared_error 12.842223508468798\n",
    "# r2 0.3528356686007662\n",
    "\n",
    "# mean_absolute_error 9.387320986414851\n",
    "# mean_squared_error 189.78699317763895\n",
    "# root_mean_squared_error 13.776320015796633\n",
    "# r2 0.2552670487966603"
   ]
  },
  {
   "cell_type": "code",
   "execution_count": 79,
   "id": "a922973f",
   "metadata": {},
   "outputs": [
    {
     "name": "stderr",
     "output_type": "stream",
     "text": [
      "*c* argument looks like a single numeric RGB or RGBA sequence, which should be avoided as value-mapping will have precedence in case its length matches with *x* & *y*.  Please use the *color* keyword-argument or provide a 2D array with a single row if you intend to specify the same RGB or RGBA value for all points.\n"
     ]
    },
    {
     "data": {
      "text/plain": [
       "<AxesSubplot:xlabel='true', ylabel='pred'>"
      ]
     },
     "execution_count": 79,
     "metadata": {},
     "output_type": "execute_result"
    },
    {
     "data": {
      "image/png": "[encoded data removed]",
      "text/plain": [
       "<Figure size 1440x720 with 1 Axes>"
      ]
     },
     "metadata": {},
     "output_type": "display_data"
    }
   ],
   "source": [
    "data = {'true':y_test_b, 'pred':y_pred_b}\n",
    "results = pd.DataFrame(data)\n",
    "results.plot(figsize=(20,10), kind='scatter', x='true', y='pred')"
   ]
  },
  {
   "cell_type": "code",
   "execution_count": 80,
   "id": "3d32f4bc",
   "metadata": {},
   "outputs": [],
   "source": [
    "# leakage - including trip distance is cheating if you have no idea how far someone is going to go"
   ]
  },
  {
   "cell_type": "code",
   "execution_count": 70,
   "id": "d158997d",
   "metadata": {},
   "outputs": [
    {
     "data": {
      "text/plain": [
       "<AxesSubplot:>"
      ]
     },
     "execution_count": 70,
     "metadata": {},
     "output_type": "execute_result"
    },
    {
     "data": {
      "image/png": "[encoded data removed]",
      "text/plain": [
       "<Figure size 1080x1080 with 1 Axes>"
      ]
     },
     "metadata": {},
     "output_type": "display_data"
    }
   ],
   "source": [
    "(pd.Series(model_at_hand.feature_importances_, index=X_train_b.columns)\n",
    "   .nlargest(10)\n",
    "   .plot(kind='barh')) "
   ]
  },
  {
   "cell_type": "markdown",
   "id": "c25adc60",
   "metadata": {},
   "source": [
    "## Identify New Features"
   ]
  },
  {
   "cell_type": "code",
   "execution_count": null,
   "id": "83b5ffa5",
   "metadata": {},
   "outputs": [],
   "source": [
    "taxi_data_grouped_date = taxi_data_grouped.groupby('transaction_date').agg({'total_amount': 'mean'}).reset_index()\n",
    "# Create the line graph\n",
    "x_transaction_date = taxi_data_grouped_date['transaction_date']\n",
    "y_total_amount = taxi_data_grouped_date['total_amount']\n",
    "fig = px.line(x=x_transaction_date, y=y_total_amount)\n",
    "\n",
    "# Show the graph\n",
    "fig.show()"
   ]
  },
  {
   "cell_type": "code",
   "execution_count": null,
   "id": "8d16cb8a",
   "metadata": {},
   "outputs": [],
   "source": [
    "taxi_data_grouped_hour = taxi_data_grouped.groupby('transaction_hour').agg({'total_amount': 'mean'}).reset_index()\n",
    "# Create the line graph\n",
    "x_transaction_hour = taxi_data_grouped_hour['transaction_hour']\n",
    "y_total_amount = taxi_data_grouped_hour['total_amount']\n",
    "fig = px.line(x=x_transaction_hour, y=y_total_amount)\n",
    "\n",
    "# Show the graph\n",
    "fig.show()"
   ]
  },
  {
   "cell_type": "code",
   "execution_count": null,
   "id": "a32959c1",
   "metadata": {},
   "outputs": [],
   "source": [
    "taxi_data_grouped_date.head()"
   ]
  },
  {
   "cell_type": "code",
   "execution_count": null,
   "id": "28699071",
   "metadata": {},
   "outputs": [],
   "source": [
    "def hour_category(x):\n",
    "    if x>=0 and x<=5:\n",
    "        output = 1\n",
    "    if x>5 and x<16:\n",
    "        output = 2\n",
    "    if x>=13 and x <16:\n",
    "        output = 3\n",
    "    if x == 16:\n",
    "        output = 4\n",
    "    if x>=17 and x<20:\n",
    "        output = 5\n",
    "    if x>=20:\n",
    "        output = 6"
   ]
  }
 ],
 "metadata": {
  "kernelspec": {
   "display_name": "Python 3 (ipykernel)",
   "language": "python",
   "name": "python3"
  },
  "language_info": {
   "codemirror_mode": {
    "name": "ipython",
    "version": 3
   },
   "file_extension": ".py",
   "mimetype": "text/x-python",
   "name": "python",
   "nbconvert_exporter": "python",
   "pygments_lexer": "ipython3",
   "version": "3.9.12"
  }
 },
 "nbformat": 4,
 "nbformat_minor": 5
}
